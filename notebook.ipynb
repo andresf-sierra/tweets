{
 "cells": [
  {
   "cell_type": "markdown",
   "source": "# Tweets Data Analysis",
   "metadata": {
    "cell_id": "c41cc5a585714c7cbbc16ceedc98fc3e",
    "tags": [],
    "deepnote_cell_type": "markdown",
    "deepnote_cell_height": 82
   }
  },
  {
   "cell_type": "code",
   "metadata": {
    "tags": [],
    "cell_id": "0f1ed157-6fc2-4ceb-9eef-a6c2c67652db",
    "deepnote_to_be_reexecuted": false,
    "source_hash": "9b82ee11",
    "execution_start": 1662051910160,
    "execution_millis": 0,
    "deepnote_cell_type": "code",
    "deepnote_cell_height": 76
   },
   "source": "import pandas as pd",
   "execution_count": 1,
   "outputs": []
  },
  {
   "cell_type": "code",
   "metadata": {
    "cell_id": "9c91919be73d426a9f61d71866ac455c",
    "tags": [],
    "deepnote_to_be_reexecuted": false,
    "source_hash": "827b2c8f",
    "execution_start": 1662051910198,
    "execution_millis": 243,
    "deepnote_cell_type": "code",
    "deepnote_cell_height": 630
   },
   "source": "df = pd.read_csv('/work/tweets.csv')\ndf",
   "execution_count": 2,
   "outputs": [
    {
     "output_type": "execute_result",
     "execution_count": 2,
     "data": {
      "application/vnd.deepnote.dataframe.v3+json": {
       "column_count": 31,
       "row_count": 100,
       "columns": [
        {
         "name": "contributors",
         "dtype": "float64",
         "stats": {
          "unique_count": 0,
          "nan_count": 100,
          "min": null,
          "max": null,
          "histogram": [
           {
            "bin_start": 0,
            "bin_end": 0.1,
            "count": 0
           },
           {
            "bin_start": 0.1,
            "bin_end": 0.2,
            "count": 0
           },
           {
            "bin_start": 0.2,
            "bin_end": 0.30000000000000004,
            "count": 0
           },
           {
            "bin_start": 0.30000000000000004,
            "bin_end": 0.4,
            "count": 0
           },
           {
            "bin_start": 0.4,
            "bin_end": 0.5,
            "count": 0
           },
           {
            "bin_start": 0.5,
            "bin_end": 0.6000000000000001,
            "count": 0
           },
           {
            "bin_start": 0.6000000000000001,
            "bin_end": 0.7000000000000001,
            "count": 0
           },
           {
            "bin_start": 0.7000000000000001,
            "bin_end": 0.8,
            "count": 0
           },
           {
            "bin_start": 0.8,
            "bin_end": 0.9,
            "count": 0
           },
           {
            "bin_start": 0.9,
            "bin_end": 1,
            "count": 0
           }
          ]
         }
        },
        {
         "name": "coordinates",
         "dtype": "float64",
         "stats": {
          "unique_count": 0,
          "nan_count": 100,
          "min": null,
          "max": null,
          "histogram": [
           {
            "bin_start": 0,
            "bin_end": 0.1,
            "count": 0
           },
           {
            "bin_start": 0.1,
            "bin_end": 0.2,
            "count": 0
           },
           {
            "bin_start": 0.2,
            "bin_end": 0.30000000000000004,
            "count": 0
           },
           {
            "bin_start": 0.30000000000000004,
            "bin_end": 0.4,
            "count": 0
           },
           {
            "bin_start": 0.4,
            "bin_end": 0.5,
            "count": 0
           },
           {
            "bin_start": 0.5,
            "bin_end": 0.6000000000000001,
            "count": 0
           },
           {
            "bin_start": 0.6000000000000001,
            "bin_end": 0.7000000000000001,
            "count": 0
           },
           {
            "bin_start": 0.7000000000000001,
            "bin_end": 0.8,
            "count": 0
           },
           {
            "bin_start": 0.8,
            "bin_end": 0.9,
            "count": 0
           },
           {
            "bin_start": 0.9,
            "bin_end": 1,
            "count": 0
           }
          ]
         }
        },
        {
         "name": "created_at",
         "dtype": "object",
         "stats": {
          "unique_count": 3,
          "nan_count": 0,
          "categories": [
           {
            "name": "Tue Mar 29 23:40:18 +0000 2016",
            "count": 53
           },
           {
            "name": "Tue Mar 29 23:40:19 +0000 2016",
            "count": 34
           },
           {
            "name": "Tue Mar 29 23:40:17 +0000 2016",
            "count": 13
           }
          ]
         }
        },
        {
         "name": "entities",
         "dtype": "object",
         "stats": {
          "unique_count": 64,
          "nan_count": 0,
          "categories": [
           {
            "name": "{'hashtags': [], 'user_mentions': [{'screen_name': 'ggreenwald', 'name': 'Glenn Greenwald', 'id': 16076032, 'id_str': '16076032', 'indices': [3, 14]}, {'screen_name': 'SusanSarandon', 'name': 'Susan Sarandon', 'id': 618300542, 'id_str': '618300542', 'indices': [49, 63]}], 'symbols': [], 'urls': [{'expanded_url': 'https://twitter.com/SusanSarandon/status/714940487833153536', 'url': 'https://t.co/AbgnHPpjnp', 'display_url': 'twitter.com/SusanSarandon/…', 'indices': [139, 140]}]}",
            "count": 3
           },
           {
            "name": "{'hashtags': [], 'user_mentions': [], 'symbols': [], 'urls': [{'expanded_url': 'https://twitter.com/benshapiro/status/714923934400061440', 'url': 'https://t.co/lpASyeNVpG', 'display_url': 'twitter.com/benshapiro/sta…', 'indices': [83, 106]}]}",
            "count": 2
           },
           {
            "name": "62 others",
            "count": 95
           }
          ]
         }
        },
        {
         "name": "extended_entities",
         "dtype": "object",
         "stats": {
          "unique_count": 13,
          "nan_count": 80,
          "categories": [
           {
            "name": "{'media': [{'sizes': {'large': {'w': 384, 'h': 383, 'resize': 'fit'}, 'medium': {'w': 384, 'h': 383, 'resize': 'fit'}, 'small': {'w': 340, 'h': 339, 'resize': 'fit'}, 'thumb': {'w': 150, 'h': 150, 'resize': 'crop'}}, 'expanded_url': 'http://twitter.com/urfavandtrump/status/714602109098786816/photo/1', 'url': 'https://t.co/PZ5vS94lOg', 'media_url_https': 'https://pbs.twimg.com/media/CerG057WIAAe2pC.jpg', 'source_user_id': 714428593313480704, 'media_url': 'http://pbs.twimg.com/media/CerG057WIAAe2pC.jpg', 'type': 'photo', 'indices': [60, 83], 'source_status_id': 714602109098786816, 'id_str': '714602103096877056', 'source_user_id_str': '714428593313480704', 'id': 714602103096877056, 'display_url': 'pic.twitter.com/PZ5vS94lOg', 'source_status_id_str': '714602109098786816'}, {'sizes': {'large': {'w': 400, 'h': 400, 'resize': 'fit'}, 'medium': {'w': 400, 'h': 400, 'resize': 'fit'}, 'small': {'w': 340, 'h': 340, 'resize': 'fit'}, 'thumb': {'w': 150, 'h': 150, 'resize': 'crop'}}, 'expanded_url': 'http://twitter.com/urfavandtrump/status/714602109098786816/photo/1', 'url': 'https://t.co/PZ5vS94lOg', 'media_url_https': 'https://pbs.twimg.com/media/CerG1IBWAAAUImB.jpg', 'source_user_id': 714428593313480704, 'media_url': 'http://pbs.twimg.com/media/CerG1IBWAAAUImB.jpg', 'type': 'photo', 'indices': [60, 83], 'source_status_id': 714602109098786816, 'id_str': '714602106880131072', 'source_user_id_str': '714428593313480704', 'id': 714602106880131072, 'display_url': 'pic.twitter.com/PZ5vS94lOg', 'source_status_id_str': '714602109098786816'}]}",
            "count": 2
           },
           {
            "name": "12 others",
            "count": 18
           },
           {
            "name": "Missing",
            "count": 80
           }
          ]
         }
        },
        {
         "name": "favorite_count",
         "dtype": "int64",
         "stats": {
          "unique_count": 1,
          "nan_count": 0,
          "min": "0",
          "max": "0",
          "histogram": [
           {
            "bin_start": -0.5,
            "bin_end": -0.4,
            "count": 0
           },
           {
            "bin_start": -0.4,
            "bin_end": -0.3,
            "count": 0
           },
           {
            "bin_start": -0.3,
            "bin_end": -0.19999999999999996,
            "count": 0
           },
           {
            "bin_start": -0.19999999999999996,
            "bin_end": -0.09999999999999998,
            "count": 0
           },
           {
            "bin_start": -0.09999999999999998,
            "bin_end": 0,
            "count": 0
           },
           {
            "bin_start": 0,
            "bin_end": 0.10000000000000009,
            "count": 100
           },
           {
            "bin_start": 0.10000000000000009,
            "bin_end": 0.20000000000000007,
            "count": 0
           },
           {
            "bin_start": 0.20000000000000007,
            "bin_end": 0.30000000000000004,
            "count": 0
           },
           {
            "bin_start": 0.30000000000000004,
            "bin_end": 0.4,
            "count": 0
           },
           {
            "bin_start": 0.4,
            "bin_end": 0.5,
            "count": 0
           }
          ]
         }
        },
        {
         "name": "favorited",
         "dtype": "bool",
         "stats": {
          "unique_count": 1,
          "nan_count": 0,
          "categories": [
           {
            "name": "False",
            "count": 100
           }
          ]
         }
        },
        {
         "name": "filter_level",
         "dtype": "object",
         "stats": {
          "unique_count": 1,
          "nan_count": 0,
          "categories": [
           {
            "name": "low",
            "count": 100
           }
          ]
         }
        },
        {
         "name": "geo",
         "dtype": "float64",
         "stats": {
          "unique_count": 0,
          "nan_count": 100,
          "min": null,
          "max": null,
          "histogram": [
           {
            "bin_start": 0,
            "bin_end": 0.1,
            "count": 0
           },
           {
            "bin_start": 0.1,
            "bin_end": 0.2,
            "count": 0
           },
           {
            "bin_start": 0.2,
            "bin_end": 0.30000000000000004,
            "count": 0
           },
           {
            "bin_start": 0.30000000000000004,
            "bin_end": 0.4,
            "count": 0
           },
           {
            "bin_start": 0.4,
            "bin_end": 0.5,
            "count": 0
           },
           {
            "bin_start": 0.5,
            "bin_end": 0.6000000000000001,
            "count": 0
           },
           {
            "bin_start": 0.6000000000000001,
            "bin_end": 0.7000000000000001,
            "count": 0
           },
           {
            "bin_start": 0.7000000000000001,
            "bin_end": 0.8,
            "count": 0
           },
           {
            "bin_start": 0.8,
            "bin_end": 0.9,
            "count": 0
           },
           {
            "bin_start": 0.9,
            "bin_end": 1,
            "count": 0
           }
          ]
         }
        },
        {
         "name": "id",
         "dtype": "int64",
         "stats": {
          "unique_count": 65,
          "nan_count": 0,
          "min": "714960401759387648",
          "max": "714960410345136129",
          "histogram": [
           {
            "bin_start": 714960401759387600,
            "bin_end": 714960402617962500,
            "count": 13
           },
           {
            "bin_start": 714960402617962500,
            "bin_end": 714960403476537300,
            "count": 16
           },
           {
            "bin_start": 714960403476537300,
            "bin_end": 714960404335112200,
            "count": 10
           },
           {
            "bin_start": 714960404335112200,
            "bin_end": 714960405193687000,
            "count": 5
           },
           {
            "bin_start": 714960405193687000,
            "bin_end": 714960406052261900,
            "count": 4
           },
           {
            "bin_start": 714960406052261900,
            "bin_end": 714960406910836700,
            "count": 16
           },
           {
            "bin_start": 714960406910836700,
            "bin_end": 714960407769411600,
            "count": 15
           },
           {
            "bin_start": 714960407769411600,
            "bin_end": 714960408627986400,
            "count": 10
           },
           {
            "bin_start": 714960408627986400,
            "bin_end": 714960409486561300,
            "count": 4
           },
           {
            "bin_start": 714960409486561300,
            "bin_end": 714960410345136100,
            "count": 7
           }
          ]
         }
        },
        {
         "name": "id_str",
         "dtype": "int64",
         "stats": {
          "unique_count": 65,
          "nan_count": 0,
          "min": "714960401759387648",
          "max": "714960410345136129",
          "histogram": [
           {
            "bin_start": 714960401759387600,
            "bin_end": 714960402617962500,
            "count": 13
           },
           {
            "bin_start": 714960402617962500,
            "bin_end": 714960403476537300,
            "count": 16
           },
           {
            "bin_start": 714960403476537300,
            "bin_end": 714960404335112200,
            "count": 10
           },
           {
            "bin_start": 714960404335112200,
            "bin_end": 714960405193687000,
            "count": 5
           },
           {
            "bin_start": 714960405193687000,
            "bin_end": 714960406052261900,
            "count": 4
           },
           {
            "bin_start": 714960406052261900,
            "bin_end": 714960406910836700,
            "count": 16
           },
           {
            "bin_start": 714960406910836700,
            "bin_end": 714960407769411600,
            "count": 15
           },
           {
            "bin_start": 714960407769411600,
            "bin_end": 714960408627986400,
            "count": 10
           },
           {
            "bin_start": 714960408627986400,
            "bin_end": 714960409486561300,
            "count": 4
           },
           {
            "bin_start": 714960409486561300,
            "bin_end": 714960410345136100,
            "count": 7
           }
          ]
         }
        },
        {
         "name": "in_reply_to_screen_name",
         "dtype": "object",
         "stats": {
          "unique_count": 6,
          "nan_count": 89,
          "categories": [
           {
            "name": "realDonaldTrump",
            "count": 4
           },
           {
            "name": "5 others",
            "count": 7
           },
           {
            "name": "Missing",
            "count": 89
           }
          ]
         }
        },
        {
         "name": "in_reply_to_status_id",
         "dtype": "float64",
         "stats": {
          "unique_count": 5,
          "nan_count": 92,
          "min": "6.986775004910756e+17",
          "max": "7.149599707609416e+17",
          "histogram": [
           {
            "bin_start": 698677500491075600,
            "bin_end": 700305747518062200,
            "count": 2
           },
           {
            "bin_start": 700305747518062200,
            "bin_end": 701933994545048800,
            "count": 0
           },
           {
            "bin_start": 701933994545048800,
            "bin_end": 703562241572035300,
            "count": 0
           },
           {
            "bin_start": 703562241572035300,
            "bin_end": 705190488599022000,
            "count": 0
           },
           {
            "bin_start": 705190488599022000,
            "bin_end": 706818735626008600,
            "count": 0
           },
           {
            "bin_start": 706818735626008600,
            "bin_end": 708446982652995200,
            "count": 0
           },
           {
            "bin_start": 708446982652995200,
            "bin_end": 710075229679981800,
            "count": 0
           },
           {
            "bin_start": 710075229679981800,
            "bin_end": 711703476706968300,
            "count": 0
           },
           {
            "bin_start": 711703476706968300,
            "bin_end": 713331723733955000,
            "count": 0
           },
           {
            "bin_start": 713331723733955000,
            "bin_end": 714959970760941600,
            "count": 6
           }
          ]
         }
        },
        {
         "name": "in_reply_to_status_id_str",
         "dtype": "float64",
         "stats": {
          "unique_count": 5,
          "nan_count": 92,
          "min": "6.986775004910756e+17",
          "max": "7.149599707609416e+17",
          "histogram": [
           {
            "bin_start": 698677500491075600,
            "bin_end": 700305747518062200,
            "count": 2
           },
           {
            "bin_start": 700305747518062200,
            "bin_end": 701933994545048800,
            "count": 0
           },
           {
            "bin_start": 701933994545048800,
            "bin_end": 703562241572035300,
            "count": 0
           },
           {
            "bin_start": 703562241572035300,
            "bin_end": 705190488599022000,
            "count": 0
           },
           {
            "bin_start": 705190488599022000,
            "bin_end": 706818735626008600,
            "count": 0
           },
           {
            "bin_start": 706818735626008600,
            "bin_end": 708446982652995200,
            "count": 0
           },
           {
            "bin_start": 708446982652995200,
            "bin_end": 710075229679981800,
            "count": 0
           },
           {
            "bin_start": 710075229679981800,
            "bin_end": 711703476706968300,
            "count": 0
           },
           {
            "bin_start": 711703476706968300,
            "bin_end": 713331723733955000,
            "count": 0
           },
           {
            "bin_start": 713331723733955000,
            "bin_end": 714959970760941600,
            "count": 6
           }
          ]
         }
        },
        {
         "name": "in_reply_to_user_id",
         "dtype": "float64",
         "stats": {
          "unique_count": 6,
          "nan_count": 89,
          "min": "15964210.0",
          "max": "2567842008.0",
          "histogram": [
           {
            "bin_start": 15964210,
            "bin_end": 271151989.8,
            "count": 9
           },
           {
            "bin_start": 271151989.8,
            "bin_end": 526339769.6,
            "count": 1
           },
           {
            "bin_start": 526339769.6,
            "bin_end": 781527549.4000001,
            "count": 0
           },
           {
            "bin_start": 781527549.4000001,
            "bin_end": 1036715329.2,
            "count": 0
           },
           {
            "bin_start": 1036715329.2,
            "bin_end": 1291903109,
            "count": 0
           },
           {
            "bin_start": 1291903109,
            "bin_end": 1547090888.8000002,
            "count": 0
           },
           {
            "bin_start": 1547090888.8000002,
            "bin_end": 1802278668.6000001,
            "count": 0
           },
           {
            "bin_start": 1802278668.6000001,
            "bin_end": 2057466448.4,
            "count": 0
           },
           {
            "bin_start": 2057466448.4,
            "bin_end": 2312654228.2000003,
            "count": 0
           },
           {
            "bin_start": 2312654228.2000003,
            "bin_end": 2567842008,
            "count": 1
           }
          ]
         }
        },
        {
         "name": "in_reply_to_user_id_str",
         "dtype": "float64",
         "stats": {
          "unique_count": 6,
          "nan_count": 89,
          "min": "15964210.0",
          "max": "2567842008.0",
          "histogram": [
           {
            "bin_start": 15964210,
            "bin_end": 271151989.8,
            "count": 9
           },
           {
            "bin_start": 271151989.8,
            "bin_end": 526339769.6,
            "count": 1
           },
           {
            "bin_start": 526339769.6,
            "bin_end": 781527549.4000001,
            "count": 0
           },
           {
            "bin_start": 781527549.4000001,
            "bin_end": 1036715329.2,
            "count": 0
           },
           {
            "bin_start": 1036715329.2,
            "bin_end": 1291903109,
            "count": 0
           },
           {
            "bin_start": 1291903109,
            "bin_end": 1547090888.8000002,
            "count": 0
           },
           {
            "bin_start": 1547090888.8000002,
            "bin_end": 1802278668.6000001,
            "count": 0
           },
           {
            "bin_start": 1802278668.6000001,
            "bin_end": 2057466448.4,
            "count": 0
           },
           {
            "bin_start": 2057466448.4,
            "bin_end": 2312654228.2000003,
            "count": 0
           },
           {
            "bin_start": 2312654228.2000003,
            "bin_end": 2567842008,
            "count": 1
           }
          ]
         }
        },
        {
         "name": "is_quote_status",
         "dtype": "bool",
         "stats": {
          "unique_count": 2,
          "nan_count": 0,
          "categories": [
           {
            "name": "False",
            "count": 76
           },
           {
            "name": "True",
            "count": 24
           }
          ]
         }
        },
        {
         "name": "lang",
         "dtype": "object",
         "stats": {
          "unique_count": 3,
          "nan_count": 0,
          "categories": [
           {
            "name": "en",
            "count": 97
           },
           {
            "name": "und",
            "count": 2
           },
           {
            "name": "et",
            "count": 1
           }
          ]
         }
        },
        {
         "name": "place",
         "dtype": "object",
         "stats": {
          "unique_count": 2,
          "nan_count": 97,
          "categories": [
           {
            "name": "{'id': '736dc4af8e68929c', 'country': 'United States', 'bounding_box': {'type': 'Polygon', 'coordinates': [[[-95.904492, 35.907134], [-95.904492, 36.017384], [-95.851283, 36.017384], [-95.851283, 35.907134]]]}, 'full_name': 'Bixby, OK', 'name': 'Bixby', 'place_type': 'city', 'url': 'https://api.twitter.com/1.1/geo/id/736dc4af8e68929c.json', 'country_code': 'US', 'attributes': {}}",
            "count": 2
           },
           {
            "name": "{'id': '4723507d8ce23a60', 'country': 'United States', 'bounding_box': {'type': 'Polygon', 'coordinates': [[[-117.243028, 41.987982], [-117.243028, 49.001121], [-111.043497, 49.001121], [-111.043497, 41.987982]]]}, 'full_name': 'Idaho, USA', 'name': 'Idaho', 'place_type': 'admin', 'url': 'https://api.twitter.com/1.1/geo/id/4723507d8ce23a60.json', 'country_code': 'US', 'attributes': {}}",
            "count": 1
           },
           {
            "name": "Missing",
            "count": 97
           }
          ]
         }
        },
        {
         "name": "possibly_sensitive",
         "dtype": "object",
         "stats": {
          "unique_count": 2,
          "nan_count": 28,
          "categories": [
           {
            "name": "False",
            "count": 70
           },
           {
            "name": "True",
            "count": 2
           },
           {
            "name": "Missing",
            "count": 28
           }
          ]
         }
        },
        {
         "name": "quoted_status",
         "dtype": "object",
         "stats": {
          "unique_count": 9,
          "nan_count": 86,
          "categories": [
           {
            "name": "{'retweeted': False, 'lang': 'en', 'favorite_count': 0, 'in_reply_to_user_id_str': None, 'is_quote_status': False, 'text': 'We are now at the point where @realdonaldtrump says @michellefields asked for it. Unreal.', 'in_reply_to_user_id': None, 'user': {'utc_offset': -28800, 'profile_image_url_https': 'https://pbs.twimg.com/profile_images/641605052201746432/cQ87UG8y_normal.jpg', 'time_zone': 'Alaska', 'contributors_enabled': False, 'url': 'http://dailywire.com', 'id_str': '17995040', 'profile_sidebar_fill_color': 'DDEEF6', 'is_translator': False, 'friends_count': 194, 'default_profile_image': False, 'follow_request_sent': None, 'following': None, 'name': 'Ben Shapiro', 'profile_use_background_image': True, 'profile_background_image_url': 'http://pbs.twimg.com/profile_background_images/705519943706501120/4owNc_7y.jpg', 'screen_name': 'benshapiro', 'profile_sidebar_border_color': 'FFFFFF', 'profile_link_color': '0084B4', 'profile_background_tile': True, 'profile_image_url': 'http://pbs.twimg.com/profile_images/641605052201746432/cQ87UG8y_normal.jpg', 'favourites_count': 2, 'location': 'California', 'geo_enabled': True, 'description': 'Editor-in-Chief http://DailyWire.com, syndicated columnist, host of The Ben Shapiro Show, radio host on KRLA and KTIE, NYT bestselling author', 'lang': 'en', 'profile_text_color': '333333', 'default_profile': False, 'profile_banner_url': 'https://pbs.twimg.com/profile_banners/17995040/1441805777', 'followers_count': 191282, 'listed_count': 3504, 'verified': True, 'protected': False, 'notifications': None, 'profile_background_color': 'C0DEED', 'profile_background_image_url_https': 'https://pbs.twimg.com/profile_background_images/705519943706501120/4owNc_7y.jpg', 'created_at': 'Tue Dec 09 16:40:22 +0000 2008', 'id': 17995040, 'statuses_count': 46105}, 'contributors': None, 'geo': None, 'source': '<a href=\"http://twitter.com\" rel=\"nofollow\">Twitter Web Client</a>', 'in_reply_to_status_id': None, 'entities': {'hashtags': [], 'user_mentions': [{'screen_name': 'realDonaldTrump', 'name': 'Donald J. Trump', 'id': 25073877, 'id_str': '25073877', 'indices': [30, 46]}, {'screen_name': 'MichelleFields', 'name': 'Michelle Fields', 'id': 122226401, 'id_str': '122226401', 'indices': [52, 67]}], 'symbols': [], 'urls': []}, 'coordinates': None, 'favorited': False, 'id_str': '714923934400061440', 'filter_level': 'low', 'created_at': 'Tue Mar 29 21:15:23 +0000 2016', 'place': None, 'id': 714923934400061440, 'truncated': False, 'retweet_count': 0, 'in_reply_to_status_id_str': None, 'in_reply_to_screen_name': None}",
            "count": 2
           },
           {
            "name": "8 others",
            "count": 12
           },
           {
            "name": "Missing",
            "count": 86
           }
          ]
         }
        },
        {
         "name": "quoted_status_id",
         "dtype": "float64",
         "stats": {
          "unique_count": 9,
          "nan_count": 86,
          "min": "7.148444474235126e+17",
          "max": "7.149602574082171e+17",
          "histogram": [
           {
            "bin_start": 714844447423512600,
            "bin_end": 714856028421983000,
            "count": 1
           },
           {
            "bin_start": 714856028421983000,
            "bin_end": 714867609420453500,
            "count": 0
           },
           {
            "bin_start": 714867609420453500,
            "bin_end": 714879190418923900,
            "count": 0
           },
           {
            "bin_start": 714879190418923900,
            "bin_end": 714890771417394400,
            "count": 0
           },
           {
            "bin_start": 714890771417394400,
            "bin_end": 714902352415864800,
            "count": 1
           },
           {
            "bin_start": 714902352415864800,
            "bin_end": 714913933414335200,
            "count": 1
           },
           {
            "bin_start": 714913933414335200,
            "bin_end": 714925514412805800,
            "count": 5
           },
           {
            "bin_start": 714925514412805800,
            "bin_end": 714937095411276200,
            "count": 0
           },
           {
            "bin_start": 714937095411276200,
            "bin_end": 714948676409746700,
            "count": 0
           },
           {
            "bin_start": 714948676409746700,
            "bin_end": 714960257408217100,
            "count": 6
           }
          ]
         }
        },
        {
         "name": "quoted_status_id_str",
         "dtype": "float64",
         "stats": {
          "unique_count": 9,
          "nan_count": 86,
          "min": "7.148444474235126e+17",
          "max": "7.149602574082171e+17",
          "histogram": [
           {
            "bin_start": 714844447423512600,
            "bin_end": 714856028421983000,
            "count": 1
           },
           {
            "bin_start": 714856028421983000,
            "bin_end": 714867609420453500,
            "count": 0
           },
           {
            "bin_start": 714867609420453500,
            "bin_end": 714879190418923900,
            "count": 0
           },
           {
            "bin_start": 714879190418923900,
            "bin_end": 714890771417394400,
            "count": 0
           },
           {
            "bin_start": 714890771417394400,
            "bin_end": 714902352415864800,
            "count": 1
           },
           {
            "bin_start": 714902352415864800,
            "bin_end": 714913933414335200,
            "count": 1
           },
           {
            "bin_start": 714913933414335200,
            "bin_end": 714925514412805800,
            "count": 5
           },
           {
            "bin_start": 714925514412805800,
            "bin_end": 714937095411276200,
            "count": 0
           },
           {
            "bin_start": 714937095411276200,
            "bin_end": 714948676409746700,
            "count": 0
           },
           {
            "bin_start": 714948676409746700,
            "bin_end": 714960257408217100,
            "count": 6
           }
          ]
         }
        },
        {
         "name": "retweet_count",
         "dtype": "int64",
         "stats": {
          "unique_count": 1,
          "nan_count": 0,
          "min": "0",
          "max": "0",
          "histogram": [
           {
            "bin_start": -0.5,
            "bin_end": -0.4,
            "count": 0
           },
           {
            "bin_start": -0.4,
            "bin_end": -0.3,
            "count": 0
           },
           {
            "bin_start": -0.3,
            "bin_end": -0.19999999999999996,
            "count": 0
           },
           {
            "bin_start": -0.19999999999999996,
            "bin_end": -0.09999999999999998,
            "count": 0
           },
           {
            "bin_start": -0.09999999999999998,
            "bin_end": 0,
            "count": 0
           },
           {
            "bin_start": 0,
            "bin_end": 0.10000000000000009,
            "count": 100
           },
           {
            "bin_start": 0.10000000000000009,
            "bin_end": 0.20000000000000007,
            "count": 0
           },
           {
            "bin_start": 0.20000000000000007,
            "bin_end": 0.30000000000000004,
            "count": 0
           },
           {
            "bin_start": 0.30000000000000004,
            "bin_end": 0.4,
            "count": 0
           },
           {
            "bin_start": 0.4,
            "bin_end": 0.5,
            "count": 0
           }
          ]
         }
        },
        {
         "name": "retweeted",
         "dtype": "bool",
         "stats": {
          "unique_count": 1,
          "nan_count": 0,
          "categories": [
           {
            "name": "False",
            "count": 100
           }
          ]
         }
        },
        {
         "name": "retweeted_status",
         "dtype": "object",
         "stats": {
          "unique_count": 39,
          "nan_count": 38,
          "categories": [
           {
            "name": "{'retweeted': False, 'lang': 'en', 'favorite_count': 1, 'in_reply_to_user_id_str': '2569487083', 'is_quote_status': False, 'text': '@WaitingInBagdad @thehill Trump supporters have selective amnisia.', 'in_reply_to_user_id': 2569487083, 'user': {'utc_offset': None, 'profile_image_url_https': 'https://pbs.twimg.com/profile_images/714559646321807361/UJmNuym0_normal.jpg', 'time_zone': None, 'contributors_enabled': False, 'url': 'http://idfspokesperson.com', 'id_str': '708090928100028416', 'profile_sidebar_fill_color': 'C0DFEC', 'is_translator': False, 'friends_count': 302, 'default_profile_image': False, 'follow_request_sent': None, 'following': None, 'name': 'I miss Marco', 'profile_use_background_image': True, 'profile_background_image_url': 'http://abs.twimg.com/images/themes/theme15/bg.png', 'screen_name': 'trumpresearch', 'profile_sidebar_border_color': 'A8C7F7', 'profile_link_color': '0084B4', 'profile_background_tile': False, 'profile_image_url': 'http://pbs.twimg.com/profile_images/714559646321807361/UJmNuym0_normal.jpg', 'favourites_count': 260, 'location': 'Idaho, USA', 'geo_enabled': True, 'description': 'Waterboard me if you must. I will never vote for Trump.', 'lang': 'en', 'profile_text_color': '333333', 'default_profile': False, 'followers_count': 115, 'listed_count': 1, 'verified': False, 'protected': False, 'notifications': None, 'profile_background_color': '022330', 'profile_background_image_url_https': 'https://abs.twimg.com/images/themes/theme15/bg.png', 'created_at': 'Fri Mar 11 00:43:27 +0000 2016', 'id': 708090928100028416, 'statuses_count': 675}, 'contributors': None, 'geo': None, 'source': '<a href=\"http://twitter.com\" rel=\"nofollow\">Twitter Web Client</a>', 'in_reply_to_status_id': 714959920693641217, 'entities': {'hashtags': [], 'user_mentions': [{'screen_name': 'WaitingInBagdad', 'name': 'Johann Sebastian Bac', 'id': 2569487083, 'id_str': '2569487083', 'indices': [0, 16]}, {'screen_name': 'thehill', 'name': 'The Hill', 'id': 1917731, 'id_str': '1917731', 'indices': [17, 25]}], 'symbols': [], 'urls': []}, 'coordinates': None, 'favorited': False, 'id_str': '714960215624458240', 'filter_level': 'low', 'created_at': 'Tue Mar 29 23:39:33 +0000 2016', 'place': None, 'id': 714960215624458240, 'truncated': False, 'retweet_count': 1, 'in_reply_to_status_id_str': '714959920693641217', 'in_reply_to_screen_name': 'WaitingInBagdad'}",
            "count": 2
           },
           {
            "name": "38 others",
            "count": 60
           },
           {
            "name": "Missing",
            "count": 38
           }
          ]
         }
        },
        {
         "name": "source",
         "dtype": "object",
         "stats": {
          "unique_count": 11,
          "nan_count": 0,
          "categories": [
           {
            "name": "<a href=\"http://twitter.com/download/iphone\" rel=\"nofollow\">Twitter for iPhone</a>",
            "count": 33
           },
           {
            "name": "<a href=\"http://twitter.com/download/android\" rel=\"nofollow\">Twitter for Android</a>",
            "count": 26
           },
           {
            "name": "9 others",
            "count": 41
           }
          ]
         }
        },
        {
         "name": "text",
         "dtype": "object",
         "stats": {
          "unique_count": 64,
          "nan_count": 0,
          "categories": [
           {
            "name": "RT @ggreenwald: The media spent all day claiming @SusanSarandon said she might vote for Trump. A total fabrication, but whatever... https:/…",
            "count": 3
           },
           {
            "name": "Your an idiot she shouldn't have tried to grab trump after the fact she's an idiot https://t.co/lpASyeNVpG",
            "count": 2
           },
           {
            "name": "62 others",
            "count": 95
           }
          ]
         }
        },
        {
         "name": "timestamp_ms",
         "dtype": "int64",
         "stats": {
          "unique_count": 64,
          "nan_count": 0,
          "min": "1459294817758",
          "max": "1459294819805",
          "histogram": [
           {
            "bin_start": 1459294817758,
            "bin_end": 1459294817962.7,
            "count": 13
           },
           {
            "bin_start": 1459294817962.7,
            "bin_end": 1459294818167.4,
            "count": 16
           },
           {
            "bin_start": 1459294818167.4,
            "bin_end": 1459294818372.1,
            "count": 10
           },
           {
            "bin_start": 1459294818372.1,
            "bin_end": 1459294818576.8,
            "count": 5
           },
           {
            "bin_start": 1459294818576.8,
            "bin_end": 1459294818781.5,
            "count": 4
           },
           {
            "bin_start": 1459294818781.5,
            "bin_end": 1459294818986.2,
            "count": 16
           },
           {
            "bin_start": 1459294818986.2,
            "bin_end": 1459294819190.9,
            "count": 15
           },
           {
            "bin_start": 1459294819190.9,
            "bin_end": 1459294819395.6,
            "count": 10
           },
           {
            "bin_start": 1459294819395.6,
            "bin_end": 1459294819600.3,
            "count": 4
           },
           {
            "bin_start": 1459294819600.3,
            "bin_end": 1459294819805,
            "count": 7
           }
          ]
         }
        },
        {
         "name": "truncated",
         "dtype": "bool",
         "stats": {
          "unique_count": 1,
          "nan_count": 0,
          "categories": [
           {
            "name": "False",
            "count": 100
           }
          ]
         }
        },
        {
         "name": "user",
         "dtype": "object",
         "stats": {
          "unique_count": 65,
          "nan_count": 0,
          "categories": [
           {
            "name": "{'utc_offset': None, 'profile_image_url_https': 'https://pbs.twimg.com/profile_images/713550564882251777/GzOv8j0e_normal.jpg', 'time_zone': None, 'contributors_enabled': False, 'url': None, 'id_str': '705125671635394560', 'profile_sidebar_fill_color': 'DDEEF6', 'is_translator': False, 'friends_count': 1311, 'default_profile_image': False, 'follow_request_sent': None, 'following': None, 'name': 'Sam Sparta', 'profile_use_background_image': True, 'profile_background_image_url': '', 'screen_name': 'SamSparta8', 'profile_sidebar_border_color': 'C0DEED', 'profile_link_color': '2B7BB9', 'profile_background_tile': False, 'profile_image_url': 'http://pbs.twimg.com/profile_images/713550564882251777/GzOv8j0e_normal.jpg', 'favourites_count': 1288, 'location': 'citizen  one of the 50 states', 'geo_enabled': False, 'description': 'I do solemnly swear to support and defend the constitution of the United States of America from foreign and domestic enemies!!!', 'lang': 'en', 'profile_text_color': '333333', 'default_profile': True, 'followers_count': 518, 'listed_count': 6, 'verified': False, 'protected': False, 'notifications': None, 'profile_background_color': 'F5F8FA', 'profile_background_image_url_https': '', 'created_at': 'Wed Mar 02 20:20:35 +0000 2016', 'id': 705125671635394560, 'statuses_count': 3036}",
            "count": 2
           },
           {
            "name": "{'utc_offset': 10800, 'profile_image_url_https': 'https://pbs.twimg.com/profile_images/714192658059681795/O5cOgwQi_normal.png', 'time_zone': 'Kyiv', 'contributors_enabled': False, 'url': 'https://www.youtube.com/watch?v=OZqKLlLc0xo', 'id_str': '2569487083', 'profile_sidebar_fill_color': 'DDEEF6', 'is_translator': False, 'friends_count': 1370, 'default_profile_image': False, 'follow_request_sent': None, 'following': None, 'name': 'Johann Sebastian Bac', 'profile_use_background_image': True, 'profile_background_image_url': 'http://abs.twimg.com/images/themes/theme1/bg.png', 'screen_name': 'WaitingInBagdad', 'profile_sidebar_border_color': 'C0DEED', 'profile_link_color': '0084B4', 'profile_background_tile': False, 'profile_image_url': 'http://pbs.twimg.com/profile_images/714192658059681795/O5cOgwQi_normal.png', 'favourites_count': 16428, 'location': 'Baghdad, Colombia, Florida', 'geo_enabled': False, 'description': '#NeverTrump Cannot vote for a fraud who has no place in the Republican Party. Go #Cruz', 'lang': 'en', 'profile_text_color': '333333', 'default_profile': True, 'profile_banner_url': 'https://pbs.twimg.com/profile_banners/2569487083/1457406498', 'followers_count': 1486, 'listed_count': 112, 'verified': False, 'protected': False, 'notifications': None, 'profile_background_color': 'C0DEED', 'profile_background_image_url_https': 'https://abs.twimg.com/images/themes/theme1/bg.png', 'created_at': 'Sun Jun 15 18:42:16 +0000 2014', 'id': 2569487083, 'statuses_count': 47107}",
            "count": 2
           },
           {
            "name": "63 others",
            "count": 96
           }
          ]
         }
        },
        {
         "name": "_deepnote_index_column",
         "dtype": "int64"
        }
       ],
       "rows": [
        {
         "contributors": "nan",
         "coordinates": "nan",
         "created_at": "Tue Mar 29 23:40:17 +0000 2016",
         "entities": "{'hashtags': [], 'user_mentions': [{'screen_name': 'bpolitics', 'name': 'Bloomberg Politics', 'id': 564111558, 'id_str': '564111558', 'indices': [3, 13]}, {'screen_name': 'krollbondrating', 'name': 'Kroll Bond Ratings', 'id': 1963523857, 'id_str': '1963523857', 'indices': [16, 32]}], 'symbols': [], 'media': [{'sizes': {'large': {'w': 1024, 'h': 691, 'resize': 'fit'}, 'medium': {'w': 600, 'h': 405, 'resize': 'fit'}, 'small': {'w': 340, 'h': 229, 'resize': 'fit'}, 'thumb': {'w': 150, 'h': 150, 'resize': 'crop'}}, 'expanded_url': 'http://twitter.com/bpolitics/status/714950482930896897/photo/1', 'url': 'https://t.co/lJcw0N8EZf', 'media_url_https': 'https://pbs.twimg.com/media/CewDrPtWAAMerOm.jpg', 'source_user_id': 564111558, 'media_url': 'http://pbs.twimg.com/media/CewDrPtWAAMerOm.jpg', 'type': 'photo', 'indices': [139, 140], 'source_status_id': 714950482930896897, 'id_str': '714950482331041795', 'source_user_id_str': '564111558', 'id': 714950482331041795, 'display_url': 'pic.twitter.com…",
         "extended_entities": "{'media': [{'sizes': {'large': {'w': 1024, 'h': 691, 'resize': 'fit'}, 'medium': {'w': 600, 'h': 405, 'resize': 'fit'}, 'small': {'w': 340, 'h': 229, 'resize': 'fit'}, 'thumb': {'w': 150, 'h': 150, 'resize': 'crop'}}, 'expanded_url': 'http://twitter.com/bpolitics/status/714950482930896897/photo/1', 'url': 'https://t.co/lJcw0N8EZf', 'media_url_https': 'https://pbs.twimg.com/media/CewDrPtWAAMerOm.jpg', 'source_user_id': 564111558, 'media_url': 'http://pbs.twimg.com/media/CewDrPtWAAMerOm.jpg', 'type': 'photo', 'indices': [139, 140], 'source_status_id': 714950482930896897, 'id_str': '714950482331041795', 'source_user_id_str': '564111558', 'id': 714950482331041795, 'display_url': 'pic.twitter.com/lJcw0N8EZf', 'source_status_id_str': '714950482930896897'}]}",
         "favorite_count": "0",
         "favorited": "False",
         "filter_level": "low",
         "geo": "nan",
         "id": "714960401759387648",
         "id_str": "714960401759387648",
         "in_reply_to_screen_name": "nan",
         "in_reply_to_status_id": "nan",
         "in_reply_to_status_id_str": "nan",
         "in_reply_to_user_id": "nan",
         "in_reply_to_user_id_str": "nan",
         "is_quote_status": "False",
         "lang": "en",
         "place": "nan",
         "possibly_sensitive": "False",
         "quoted_status": "nan",
         "quoted_status_id": "nan",
         "quoted_status_id_str": "nan",
         "retweet_count": "0",
         "retweeted": "False",
         "retweeted_status": "{'retweeted': False, 'text': \".@krollbondrating's Christopher Whalen says Clinton is the weakest Dem candidate in 50 years https://t.co/pLk7rvoRSn https://t.co/lJcw0N8EZf\", 'in_reply_to_status_id': None, 'favorite_count': 40, 'in_reply_to_user_id_str': None, 'geo': None, 'is_quote_status': False, 'source': '<a href=\"http://www.hootsuite.com\" rel=\"nofollow\">Hootsuite</a>', 'in_reply_to_user_id': None, 'user': {'utc_offset': -14400, 'profile_image_url_https': 'https://pbs.twimg.com/profile_images/714804098890133504/cUO4gD1A_normal.jpg', 'time_zone': 'Eastern Time (US & Canada)', 'contributors_enabled': False, 'url': 'http://www.bloombergpolitics.com', 'id_str': '564111558', 'profile_sidebar_fill_color': 'DDEEF6', 'is_translator': False, 'friends_count': 539, 'default_profile_image': False, 'follow_request_sent': None, 'following': None, 'name': 'Bloomberg Politics', 'profile_use_background_image': True, 'profile_background_image_url': 'http://pbs.twimg.com/profile_background_images/5408…",
         "source": "<a href=\"http://twitter.com\" rel=\"nofollow\">Twitter Web Client</a>",
         "text": "RT @bpolitics: .@krollbondrating's Christopher Whalen says Clinton is the weakest Dem candidate in 50 years https://t.co/pLk7rvoRSn https:/…",
         "timestamp_ms": "1459294817758",
         "truncated": "False",
         "user": "{'utc_offset': 3600, 'profile_image_url_https': 'https://pbs.twimg.com/profile_images/700888033558720512/KexOIMN4_normal.jpg', 'time_zone': 'London', 'contributors_enabled': False, 'url': 'http://www.get-saved-today.webnode.com', 'id_str': '2290155049', 'profile_sidebar_fill_color': '000000', 'is_translator': False, 'friends_count': 502, 'default_profile_image': False, 'follow_request_sent': None, 'following': None, 'name': 'Born in Britain', 'profile_use_background_image': False, 'profile_background_image_url': 'http://abs.twimg.com/images/themes/theme1/bg.png', 'screen_name': 'greyman25', 'profile_sidebar_border_color': '000000', 'profile_link_color': '1B95E0', 'profile_background_tile': False, 'profile_image_url': 'http://pbs.twimg.com/profile_images/700888033558720512/KexOIMN4_normal.jpg', 'favourites_count': 3961, 'location': 'Yorkshire and The Humber', 'geo_enabled': False, 'description': 'Ex con, dry alcoholic, non smoker, love Jesus Christ &  Britain. Internet evangelist. Pro …",
         "_deepnote_index_column": "0"
        },
        {
         "contributors": "nan",
         "coordinates": "nan",
         "created_at": "Tue Mar 29 23:40:17 +0000 2016",
         "entities": "{'hashtags': [{'text': 'cruzsexscandal', 'indices': [75, 90]}], 'user_mentions': [{'screen_name': 'HeidiAlpine', 'name': 'Heidi', 'id': 932568674, 'id_str': '932568674', 'indices': [3, 15]}, {'screen_name': 'dmartosko', 'name': 'David Martosko', 'id': 38497702, 'id_str': '38497702', 'indices': [17, 27]}], 'symbols': [], 'media': [{'sizes': {'large': {'w': 500, 'h': 290, 'resize': 'fit'}, 'medium': {'w': 500, 'h': 290, 'resize': 'fit'}, 'small': {'w': 340, 'h': 197, 'resize': 'fit'}, 'thumb': {'w': 150, 'h': 150, 'resize': 'crop'}}, 'expanded_url': 'http://twitter.com/HeidiAlpine/status/714656471963688960/photo/1', 'url': 'https://t.co/zuAPZfQDk3', 'media_url_https': 'https://pbs.twimg.com/tweet_video_thumb/Cer4OcrWsAAh-9p.jpg', 'source_user_id': 932568674, 'media_url': 'http://pbs.twimg.com/tweet_video_thumb/Cer4OcrWsAAh-9p.jpg', 'type': 'photo', 'indices': [91, 114], 'source_status_id': 714656471963688960, 'id_str': '714656417991536640', 'source_user_id_str': '932568674', 'id': 71465…",
         "extended_entities": "{'media': [{'sizes': {'large': {'w': 500, 'h': 290, 'resize': 'fit'}, 'medium': {'w': 500, 'h': 290, 'resize': 'fit'}, 'small': {'w': 340, 'h': 197, 'resize': 'fit'}, 'thumb': {'w': 150, 'h': 150, 'resize': 'crop'}}, 'expanded_url': 'http://twitter.com/HeidiAlpine/status/714656471963688960/photo/1', 'url': 'https://t.co/zuAPZfQDk3', 'media_url_https': 'https://pbs.twimg.com/tweet_video_thumb/Cer4OcrWsAAh-9p.jpg', 'source_user_id': 932568674, 'media_url': 'http://pbs.twimg.com/tweet_video_thumb/Cer4OcrWsAAh-9p.jpg', 'type': 'animated_gif', 'indices': [91, 114], 'source_status_id': 714656471963688960, 'id_str': '714656417991536640', 'source_user_id_str': '932568674', 'video_info': {'aspect_ratio': [50, 29], 'variants': [{'content_type': 'video/mp4', 'url': 'https://pbs.twimg.com/tweet_video/Cer4OcrWsAAh-9p.mp4', 'bitrate': 0}]}, 'id': 714656417991536640, 'display_url': 'pic.twitter.com/zuAPZfQDk3', 'source_status_id_str': '714656471963688960'}]}",
         "favorite_count": "0",
         "favorited": "False",
         "filter_level": "low",
         "geo": "nan",
         "id": "714960401977319424",
         "id_str": "714960401977319424",
         "in_reply_to_screen_name": "nan",
         "in_reply_to_status_id": "nan",
         "in_reply_to_status_id_str": "nan",
         "in_reply_to_user_id": "nan",
         "in_reply_to_user_id_str": "nan",
         "is_quote_status": "False",
         "lang": "en",
         "place": "nan",
         "possibly_sensitive": "False",
         "quoted_status": "nan",
         "quoted_status_id": "nan",
         "quoted_status_id_str": "nan",
         "retweet_count": "0",
         "retweeted": "False",
         "retweeted_status": "{'retweeted': False, 'text': '@dmartosko Cruz video found.....racing from the scene.... #cruzsexscandal https://t.co/zuAPZfQDk3', 'in_reply_to_status_id': 714550665838731264, 'favorite_count': 20, 'in_reply_to_user_id_str': '38497702', 'geo': None, 'is_quote_status': False, 'source': '<a href=\"http://twitter.com/download/iphone\" rel=\"nofollow\">Twitter for iPhone</a>', 'in_reply_to_user_id': 38497702, 'user': {'utc_offset': None, 'profile_image_url_https': 'https://pbs.twimg.com/profile_images/654384398469476352/JNoe0tQz_normal.jpg', 'time_zone': None, 'contributors_enabled': False, 'url': None, 'id_str': '932568674', 'profile_sidebar_fill_color': '95E8EC', 'is_translator': False, 'friends_count': 1030, 'default_profile_image': False, 'follow_request_sent': None, 'following': None, 'name': 'Heidi', 'profile_use_background_image': True, 'profile_background_image_url': 'http://abs.twimg.com/images/themes/theme4/bg.gif', 'screen_name': 'HeidiAlpine', 'profile_sidebar_border_color': 'FFFFF…",
         "source": "<a href=\"http://twitter.com\" rel=\"nofollow\">Twitter Web Client</a>",
         "text": "RT @HeidiAlpine: @dmartosko Cruz video found.....racing from the scene.... #cruzsexscandal https://t.co/zuAPZfQDk3",
         "timestamp_ms": "1459294817810",
         "truncated": "False",
         "user": "{'utc_offset': None, 'profile_image_url_https': 'https://pbs.twimg.com/profile_images/692633809200656384/joTnDm5v_normal.jpg', 'time_zone': None, 'contributors_enabled': False, 'url': None, 'id_str': '4851614681', 'profile_sidebar_fill_color': '000000', 'is_translator': False, 'friends_count': 1391, 'default_profile_image': False, 'follow_request_sent': None, 'following': None, 'name': 'Ourn Raphael Brown', 'profile_use_background_image': False, 'profile_background_image_url': 'http://abs.twimg.com/images/themes/theme1/bg.png', 'screen_name': 'blazebandit2015', 'profile_sidebar_border_color': '000000', 'profile_link_color': 'E81C1F', 'profile_background_tile': False, 'profile_image_url': 'http://pbs.twimg.com/profile_images/692633809200656384/joTnDm5v_normal.jpg', 'favourites_count': 421, 'location': 'Maine, USA', 'geo_enabled': False, 'description': '24 yrs old American Patriot. NSSAR member. 7th Great Grand Parents Captain David Brown and Col. John Buttrick. The Revolutionary War. A…",
         "_deepnote_index_column": "1"
        },
        {
         "contributors": "nan",
         "coordinates": "nan",
         "created_at": "Tue Mar 29 23:40:17 +0000 2016",
         "entities": "{'hashtags': [], 'user_mentions': [], 'symbols': [], 'urls': [{'expanded_url': 'http://fb.me/3ZOkPfHWn', 'url': 'https://t.co/4KmsQi47VD', 'display_url': 'fb.me/3ZOkPfHWn', 'indices': [41, 64]}]}",
         "extended_entities": "nan",
         "favorite_count": "0",
         "favorited": "False",
         "filter_level": "low",
         "geo": "nan",
         "id": "714960402426236928",
         "id_str": "714960402426236928",
         "in_reply_to_screen_name": "nan",
         "in_reply_to_status_id": "nan",
         "in_reply_to_status_id_str": "nan",
         "in_reply_to_user_id": "nan",
         "in_reply_to_user_id_str": "nan",
         "is_quote_status": "False",
         "lang": "et",
         "place": "nan",
         "possibly_sensitive": "False",
         "quoted_status": "nan",
         "quoted_status_id": "nan",
         "quoted_status_id_str": "nan",
         "retweet_count": "0",
         "retweeted": "False",
         "retweeted_status": "nan",
         "source": "<a href=\"http://www.facebook.com/twitter\" rel=\"nofollow\">Facebook</a>",
         "text": "Njihuni me Zonjën Trump !!! | Ekskluzive https://t.co/4KmsQi47VD",
         "timestamp_ms": "1459294817917",
         "truncated": "False",
         "user": "{'utc_offset': 7200, 'profile_image_url_https': 'https://pbs.twimg.com/profile_images/709053755782619136/Uj7gZl9x_normal.jpg', 'time_zone': 'Rome', 'contributors_enabled': False, 'url': 'http://www.facebook.com/lyrical.warfare', 'id_str': '120160631', 'profile_sidebar_fill_color': '000000', 'is_translator': False, 'friends_count': 450, 'default_profile_image': False, 'follow_request_sent': None, 'following': None, 'name': 'Mi Ri', 'profile_use_background_image': True, 'profile_background_image_url': 'http://abs.twimg.com/images/themes/theme18/bg.gif', 'screen_name': 'djal1keq', 'profile_sidebar_border_color': '000000', 'profile_link_color': '3B94D9', 'profile_background_tile': True, 'profile_image_url': 'http://pbs.twimg.com/profile_images/709053755782619136/Uj7gZl9x_normal.jpg', 'favourites_count': 221, 'location': '(♥‿♥)  Albania (♥‿♥) ', 'geo_enabled': True, 'description': '“Sometimes, saying “Goodbye” is like saying “Let’s stop hurting each other”.', 'lang': 'en', 'profile_text_co…",
         "_deepnote_index_column": "2"
        },
        {
         "contributors": "nan",
         "coordinates": "nan",
         "created_at": "Tue Mar 29 23:40:17 +0000 2016",
         "entities": "{'hashtags': [], 'user_mentions': [], 'symbols': [], 'urls': [{'expanded_url': 'https://twitter.com/benshapiro/status/714923934400061440', 'url': 'https://t.co/lpASyeNVpG', 'display_url': 'twitter.com/benshapiro/sta…', 'indices': [83, 106]}]}",
         "extended_entities": "nan",
         "favorite_count": "0",
         "favorited": "False",
         "filter_level": "low",
         "geo": "nan",
         "id": "714960402367561730",
         "id_str": "714960402367561730",
         "in_reply_to_screen_name": "nan",
         "in_reply_to_status_id": "nan",
         "in_reply_to_status_id_str": "nan",
         "in_reply_to_user_id": "nan",
         "in_reply_to_user_id_str": "nan",
         "is_quote_status": "True",
         "lang": "en",
         "place": "nan",
         "possibly_sensitive": "False",
         "quoted_status": "{'retweeted': False, 'lang': 'en', 'favorite_count': 0, 'in_reply_to_user_id_str': None, 'is_quote_status': False, 'text': 'We are now at the point where @realdonaldtrump says @michellefields asked for it. Unreal.', 'in_reply_to_user_id': None, 'user': {'utc_offset': -28800, 'profile_image_url_https': 'https://pbs.twimg.com/profile_images/641605052201746432/cQ87UG8y_normal.jpg', 'time_zone': 'Alaska', 'contributors_enabled': False, 'url': 'http://dailywire.com', 'id_str': '17995040', 'profile_sidebar_fill_color': 'DDEEF6', 'is_translator': False, 'friends_count': 194, 'default_profile_image': False, 'follow_request_sent': None, 'following': None, 'name': 'Ben Shapiro', 'profile_use_background_image': True, 'profile_background_image_url': 'http://pbs.twimg.com/profile_background_images/705519943706501120/4owNc_7y.jpg', 'screen_name': 'benshapiro', 'profile_sidebar_border_color': 'FFFFFF', 'profile_link_color': '0084B4', 'profile_background_tile': True, 'profile_image_url': 'http://pbs.…",
         "quoted_status_id": "7.149239344000614e+17",
         "quoted_status_id_str": "7.149239344000614e+17",
         "retweet_count": "0",
         "retweeted": "False",
         "retweeted_status": "nan",
         "source": "<a href=\"http://twitter.com/download/android\" rel=\"nofollow\">Twitter for Android</a>",
         "text": "Your an idiot she shouldn't have tried to grab trump after the fact she's an idiot https://t.co/lpASyeNVpG",
         "timestamp_ms": "1459294817903",
         "truncated": "False",
         "user": "{'utc_offset': None, 'profile_image_url_https': 'https://pbs.twimg.com/profile_images/713550564882251777/GzOv8j0e_normal.jpg', 'time_zone': None, 'contributors_enabled': False, 'url': None, 'id_str': '705125671635394560', 'profile_sidebar_fill_color': 'DDEEF6', 'is_translator': False, 'friends_count': 1311, 'default_profile_image': False, 'follow_request_sent': None, 'following': None, 'name': 'Sam Sparta', 'profile_use_background_image': True, 'profile_background_image_url': '', 'screen_name': 'SamSparta8', 'profile_sidebar_border_color': 'C0DEED', 'profile_link_color': '2B7BB9', 'profile_background_tile': False, 'profile_image_url': 'http://pbs.twimg.com/profile_images/713550564882251777/GzOv8j0e_normal.jpg', 'favourites_count': 1288, 'location': 'citizen  one of the 50 states', 'geo_enabled': False, 'description': 'I do solemnly swear to support and defend the constitution of the United States of America from foreign and domestic enemies!!!', 'lang': 'en', 'profile_text_color': '33…",
         "_deepnote_index_column": "3"
        },
        {
         "contributors": "nan",
         "coordinates": "nan",
         "created_at": "Tue Mar 29 23:40:17 +0000 2016",
         "entities": "{'hashtags': [], 'user_mentions': [{'screen_name': 'AlanLohner', 'name': 'Alan Lohner', 'id': 246578276, 'id_str': '246578276', 'indices': [3, 14]}], 'symbols': [], 'urls': [{'expanded_url': 'https://twitter.com/Brooke_dheaaa/status/714651520126423042', 'url': 'https://t.co/cytYOBsyIU', 'display_url': 'twitter.com/Brooke_dheaaa/…', 'indices': [139, 140]}]}",
         "extended_entities": "nan",
         "favorite_count": "0",
         "favorited": "False",
         "filter_level": "low",
         "geo": "nan",
         "id": "714960402149416960",
         "id_str": "714960402149416960",
         "in_reply_to_screen_name": "nan",
         "in_reply_to_status_id": "nan",
         "in_reply_to_status_id_str": "nan",
         "in_reply_to_user_id": "nan",
         "in_reply_to_user_id_str": "nan",
         "is_quote_status": "True",
         "lang": "en",
         "place": "nan",
         "possibly_sensitive": "False",
         "quoted_status": "nan",
         "quoted_status_id": "nan",
         "quoted_status_id_str": "nan",
         "retweet_count": "0",
         "retweeted": "False",
         "retweeted_status": "{'retweeted': False, 'text': 'The anti-American D.C. elites despise Trump for his America-first foreign policy. Trump threatens their gravy train. https://t.co/cytYOBsyIU', 'favorite_count': 9, 'in_reply_to_user_id_str': None, 'geo': None, 'is_quote_status': True, 'quoted_status': {'retweeted': False, 'lang': 'en', 'favorite_count': 0, 'in_reply_to_user_id_str': None, 'is_quote_status': False, 'text': \"If Trump can't beat Hillary why are they spending a fortune trying to stop him😏\", 'in_reply_to_user_id': None, 'user': {'utc_offset': None, 'profile_image_url_https': 'https://pbs.twimg.com/profile_images/712842115835830272/y-Fe35br_normal.jpg', 'time_zone': None, 'contributors_enabled': False, 'url': None, 'id_str': '2279480486', 'profile_sidebar_fill_color': 'DDEEF6', 'is_translator': False, 'friends_count': 612, 'default_profile_image': False, 'follow_request_sent': None, 'following': None, 'name': 'Conservative Babe', 'profile_use_background_image': True, 'profile_background_image_u…",
         "source": "<a href=\"http://twitter.com/download/iphone\" rel=\"nofollow\">Twitter for iPhone</a>",
         "text": "RT @AlanLohner: The anti-American D.C. elites despise Trump for his America-first foreign policy. Trump threatens their gravy train. https:…",
         "timestamp_ms": "1459294817851",
         "truncated": "False",
         "user": "{'utc_offset': -18000, 'profile_image_url_https': 'https://pbs.twimg.com/profile_images/1521136446/58ce2f93-c3db-4746-bcda-c109393ba58e_normal.png', 'time_zone': 'Central Time (US & Canada)', 'contributors_enabled': False, 'url': None, 'id_str': '88467528', 'profile_sidebar_fill_color': 'FFFFFF', 'is_translator': False, 'friends_count': 3520, 'default_profile_image': False, 'follow_request_sent': None, 'following': None, 'name': 'Laurel Cates', 'profile_use_background_image': True, 'profile_background_image_url': 'http://abs.twimg.com/images/themes/theme13/bg.gif', 'screen_name': 'la_cates', 'profile_sidebar_border_color': 'EEEEEE', 'profile_link_color': '93A644', 'profile_background_tile': False, 'profile_image_url': 'http://pbs.twimg.com/profile_images/1521136446/58ce2f93-c3db-4746-bcda-c109393ba58e_normal.png', 'favourites_count': 1671, 'location': 'Central FL', 'geo_enabled': True, 'description': 'American Wife, Mother and Entrepreneur. Moving to Florida from Illinois was THE best…",
         "_deepnote_index_column": "4"
        },
        {
         "contributors": "nan",
         "coordinates": "nan",
         "created_at": "Tue Mar 29 23:40:17 +0000 2016",
         "entities": "{'hashtags': [], 'user_mentions': [{'screen_name': 'BIackPplTweets', 'name': 'Black People Tweets', 'id': 472769001, 'id_str': '472769001', 'indices': [3, 18]}], 'symbols': [], 'urls': [{'expanded_url': 'https://vine.co/v/ippWn5vUF3F', 'url': 'https://t.co/RFlu17Z1eE', 'display_url': 'vine.co/v/ippWn5vUF3F', 'indices': [59, 82]}]}",
         "extended_entities": "nan",
         "favorite_count": "0",
         "favorited": "False",
         "filter_level": "low",
         "geo": "nan",
         "id": "714960401759412224",
         "id_str": "714960401759412224",
         "in_reply_to_screen_name": "nan",
         "in_reply_to_status_id": "nan",
         "in_reply_to_status_id_str": "nan",
         "in_reply_to_user_id": "nan",
         "in_reply_to_user_id_str": "nan",
         "is_quote_status": "False",
         "lang": "en",
         "place": "nan",
         "possibly_sensitive": "False",
         "quoted_status": "nan",
         "quoted_status_id": "nan",
         "quoted_status_id_str": "nan",
         "retweet_count": "0",
         "retweeted": "False",
         "retweeted_status": "{'retweeted': False, 'lang': 'en', 'favorite_count': 16, 'in_reply_to_user_id_str': None, 'geo': None, 'is_quote_status': False, 'text': 'Young Donald trump meets his neighbor  https://t.co/RFlu17Z1eE', 'in_reply_to_user_id': None, 'user': {'utc_offset': -18000, 'profile_image_url_https': 'https://pbs.twimg.com/profile_images/667840491828805633/IX67LAxT_normal.jpg', 'time_zone': 'Central Time (US & Canada)', 'contributors_enabled': False, 'url': None, 'id_str': '472769001', 'profile_sidebar_fill_color': '000000', 'is_translator': False, 'friends_count': 14, 'default_profile_image': False, 'follow_request_sent': None, 'following': None, 'name': 'Black People Tweets', 'profile_use_background_image': False, 'profile_background_image_url': 'http://abs.twimg.com/images/themes/theme14/bg.gif', 'screen_name': 'BIackPplTweets', 'profile_sidebar_border_color': '000000', 'profile_link_color': '000000', 'profile_background_tile': False, 'profile_image_url': 'http://pbs.twimg.com/profile_images/6…",
         "source": "<a href=\"http://twitter.com/download/iphone\" rel=\"nofollow\">Twitter for iPhone</a>",
         "text": "RT @BIackPplTweets: Young Donald trump meets his neighbor  https://t.co/RFlu17Z1eE",
         "timestamp_ms": "1459294817758",
         "truncated": "False",
         "user": "{'utc_offset': None, 'profile_image_url_https': 'https://pbs.twimg.com/profile_images/711348826049814528/OzBwNFha_normal.jpg', 'time_zone': None, 'contributors_enabled': False, 'url': 'http://Instagram.com/NXJG6_', 'id_str': '4354585456', 'profile_sidebar_fill_color': 'DDEEF6', 'is_translator': False, 'friends_count': 196, 'default_profile_image': False, 'follow_request_sent': None, 'following': None, 'name': '.NXJG.', 'profile_use_background_image': True, 'profile_background_image_url': 'http://abs.twimg.com/images/themes/theme1/bg.png', 'screen_name': 'noah_jordan_30', 'profile_sidebar_border_color': 'C0DEED', 'profile_link_color': '0084B4', 'profile_background_tile': False, 'profile_image_url': 'http://pbs.twimg.com/profile_images/711348826049814528/OzBwNFha_normal.jpg', 'favourites_count': 1174, 'location': 'Pickering, ', 'geo_enabled': False, 'description': '3x/905', 'lang': 'en', 'profile_text_color': '333333', 'default_profile': True, 'profile_banner_url': 'https://pbs.twimg.co…",
         "_deepnote_index_column": "5"
        },
        {
         "contributors": "nan",
         "coordinates": "nan",
         "created_at": "Tue Mar 29 23:40:18 +0000 2016",
         "entities": "{'hashtags': [], 'user_mentions': [{'screen_name': 'trumpresearch', 'name': 'I miss Marco', 'id': 708090928100028416, 'id_str': '708090928100028416', 'indices': [3, 17]}, {'screen_name': 'WaitingInBagdad', 'name': 'Johann Sebastian Bac', 'id': 2569487083, 'id_str': '2569487083', 'indices': [19, 35]}, {'screen_name': 'thehill', 'name': 'The Hill', 'id': 1917731, 'id_str': '1917731', 'indices': [36, 44]}], 'symbols': [], 'urls': []}",
         "extended_entities": "nan",
         "favorite_count": "0",
         "favorited": "False",
         "filter_level": "low",
         "geo": "nan",
         "id": "714960402791145472",
         "id_str": "714960402791145472",
         "in_reply_to_screen_name": "nan",
         "in_reply_to_status_id": "nan",
         "in_reply_to_status_id_str": "nan",
         "in_reply_to_user_id": "nan",
         "in_reply_to_user_id_str": "nan",
         "is_quote_status": "False",
         "lang": "en",
         "place": "nan",
         "possibly_sensitive": "nan",
         "quoted_status": "nan",
         "quoted_status_id": "nan",
         "quoted_status_id_str": "nan",
         "retweet_count": "0",
         "retweeted": "False",
         "retweeted_status": "{'retweeted': False, 'lang': 'en', 'favorite_count': 1, 'in_reply_to_user_id_str': '2569487083', 'is_quote_status': False, 'text': '@WaitingInBagdad @thehill Trump supporters have selective amnisia.', 'in_reply_to_user_id': 2569487083, 'user': {'utc_offset': None, 'profile_image_url_https': 'https://pbs.twimg.com/profile_images/714559646321807361/UJmNuym0_normal.jpg', 'time_zone': None, 'contributors_enabled': False, 'url': 'http://idfspokesperson.com', 'id_str': '708090928100028416', 'profile_sidebar_fill_color': 'C0DFEC', 'is_translator': False, 'friends_count': 302, 'default_profile_image': False, 'follow_request_sent': None, 'following': None, 'name': 'I miss Marco', 'profile_use_background_image': True, 'profile_background_image_url': 'http://abs.twimg.com/images/themes/theme15/bg.png', 'screen_name': 'trumpresearch', 'profile_sidebar_border_color': 'A8C7F7', 'profile_link_color': '0084B4', 'profile_background_tile': False, 'profile_image_url': 'http://pbs.twimg.com/profile_image…",
         "source": "<a href=\"http://twitter.com\" rel=\"nofollow\">Twitter Web Client</a>",
         "text": "RT @trumpresearch: @WaitingInBagdad @thehill Trump supporters have selective amnisia.",
         "timestamp_ms": "1459294818004",
         "truncated": "False",
         "user": "{'utc_offset': 10800, 'profile_image_url_https': 'https://pbs.twimg.com/profile_images/714192658059681795/O5cOgwQi_normal.png', 'time_zone': 'Kyiv', 'contributors_enabled': False, 'url': 'https://www.youtube.com/watch?v=OZqKLlLc0xo', 'id_str': '2569487083', 'profile_sidebar_fill_color': 'DDEEF6', 'is_translator': False, 'friends_count': 1370, 'default_profile_image': False, 'follow_request_sent': None, 'following': None, 'name': 'Johann Sebastian Bac', 'profile_use_background_image': True, 'profile_background_image_url': 'http://abs.twimg.com/images/themes/theme1/bg.png', 'screen_name': 'WaitingInBagdad', 'profile_sidebar_border_color': 'C0DEED', 'profile_link_color': '0084B4', 'profile_background_tile': False, 'profile_image_url': 'http://pbs.twimg.com/profile_images/714192658059681795/O5cOgwQi_normal.png', 'favourites_count': 16428, 'location': 'Baghdad, Colombia, Florida', 'geo_enabled': False, 'description': '#NeverTrump Cannot vote for a fraud who has no place in the Republican P…",
         "_deepnote_index_column": "6"
        },
        {
         "contributors": "nan",
         "coordinates": "nan",
         "created_at": "Tue Mar 29 23:40:17 +0000 2016",
         "entities": "{'hashtags': [], 'user_mentions': [{'screen_name': 'HouseCracka', 'name': 'HouseCracka', 'id': 16190478, 'id_str': '16190478', 'indices': [3, 15]}], 'symbols': [], 'urls': [{'expanded_url': 'https://www.youtube.com/watch?v=F-5N6Bxy_h4', 'url': 'https://t.co/7QCFz9ehNe', 'display_url': 'youtube.com/watch?v=F-5N6B…', 'indices': [70, 93]}]}",
         "extended_entities": "nan",
         "favorite_count": "0",
         "favorited": "False",
         "filter_level": "low",
         "geo": "nan",
         "id": "714960402346598400",
         "id_str": "714960402346598400",
         "in_reply_to_screen_name": "nan",
         "in_reply_to_status_id": "nan",
         "in_reply_to_status_id_str": "nan",
         "in_reply_to_user_id": "nan",
         "in_reply_to_user_id_str": "nan",
         "is_quote_status": "False",
         "lang": "en",
         "place": "nan",
         "possibly_sensitive": "False",
         "quoted_status": "nan",
         "quoted_status_id": "nan",
         "quoted_status_id_str": "nan",
         "retweet_count": "0",
         "retweeted": "False",
         "retweeted_status": "{'retweeted': False, 'lang': 'en', 'favorite_count': 23, 'in_reply_to_user_id_str': None, 'geo': None, 'is_quote_status': False, 'text': '29,000+ PEOPLE WATCHING TRUMP LIVE ON ONE STREAM!!!\\n\\nhttps://t.co/7QCFz9ehNe', 'in_reply_to_user_id': None, 'user': {'utc_offset': -14400, 'profile_image_url_https': 'https://pbs.twimg.com/profile_images/695655695111163904/Tvttljlb_normal.png', 'time_zone': 'Eastern Time (US & Canada)', 'contributors_enabled': False, 'url': None, 'id_str': '16190478', 'profile_sidebar_fill_color': 'C0DFEC', 'is_translator': False, 'friends_count': 29384, 'default_profile_image': False, 'follow_request_sent': None, 'following': None, 'name': 'HouseCracka', 'profile_use_background_image': True, 'profile_background_image_url': 'http://pbs.twimg.com/profile_background_images/710908940939345920/gg7RJrZH.jpg', 'screen_name': 'HouseCracka', 'profile_sidebar_border_color': 'FFFFFF', 'profile_link_color': '3B94D9', 'profile_background_tile': True, 'profile_image_url': 'htt…",
         "source": "<a href=\"http://twitter.com/download/android\" rel=\"nofollow\">Twitter for Android</a>",
         "text": "RT @HouseCracka: 29,000+ PEOPLE WATCHING TRUMP LIVE ON ONE STREAM!!!\n\nhttps://t.co/7QCFz9ehNe",
         "timestamp_ms": "1459294817898",
         "truncated": "False",
         "user": "{'utc_offset': None, 'profile_image_url_https': 'https://pbs.twimg.com/profile_images/550723516362809345/q-1sw69T_normal.jpeg', 'time_zone': None, 'contributors_enabled': False, 'url': None, 'id_str': '2952975264', 'profile_sidebar_fill_color': 'DDEEF6', 'is_translator': False, 'friends_count': 76, 'default_profile_image': False, 'follow_request_sent': None, 'following': None, 'name': 'Pete Spurgeon', 'profile_use_background_image': True, 'profile_background_image_url': 'http://abs.twimg.com/images/themes/theme1/bg.png', 'screen_name': 'Ps1953Spurgeon', 'profile_sidebar_border_color': 'C0DEED', 'profile_link_color': '0084B4', 'profile_background_tile': False, 'profile_image_url': 'http://pbs.twimg.com/profile_images/550723516362809345/q-1sw69T_normal.jpeg', 'favourites_count': 94, 'location': None, 'geo_enabled': True, 'description': None, 'lang': 'en', 'profile_text_color': '333333', 'default_profile': True, 'profile_banner_url': 'https://pbs.twimg.com/profile_banners/2952975264/1420…",
         "_deepnote_index_column": "7"
        },
        {
         "contributors": "nan",
         "coordinates": "nan",
         "created_at": "Tue Mar 29 23:40:18 +0000 2016",
         "entities": "{'hashtags': [], 'user_mentions': [{'screen_name': 'urfavandtrump', 'name': 'rt ur fave OR trump', 'id': 714428593313480704, 'id_str': '714428593313480704', 'indices': [3, 17]}], 'symbols': [], 'media': [{'sizes': {'large': {'w': 384, 'h': 383, 'resize': 'fit'}, 'medium': {'w': 384, 'h': 383, 'resize': 'fit'}, 'small': {'w': 340, 'h': 339, 'resize': 'fit'}, 'thumb': {'w': 150, 'h': 150, 'resize': 'crop'}}, 'expanded_url': 'http://twitter.com/urfavandtrump/status/714602109098786816/photo/1', 'url': 'https://t.co/PZ5vS94lOg', 'media_url_https': 'https://pbs.twimg.com/media/CerG057WIAAe2pC.jpg', 'source_user_id': 714428593313480704, 'media_url': 'http://pbs.twimg.com/media/CerG057WIAAe2pC.jpg', 'type': 'photo', 'indices': [60, 83], 'source_status_id': 714602109098786816, 'id_str': '714602103096877056', 'source_user_id_str': '714428593313480704', 'id': 714602103096877056, 'display_url': 'pic.twitter.com/PZ5vS94lOg', 'source_status_id_str': '714602109098786816'}], 'urls': []}",
         "extended_entities": "{'media': [{'sizes': {'large': {'w': 384, 'h': 383, 'resize': 'fit'}, 'medium': {'w': 384, 'h': 383, 'resize': 'fit'}, 'small': {'w': 340, 'h': 339, 'resize': 'fit'}, 'thumb': {'w': 150, 'h': 150, 'resize': 'crop'}}, 'expanded_url': 'http://twitter.com/urfavandtrump/status/714602109098786816/photo/1', 'url': 'https://t.co/PZ5vS94lOg', 'media_url_https': 'https://pbs.twimg.com/media/CerG057WIAAe2pC.jpg', 'source_user_id': 714428593313480704, 'media_url': 'http://pbs.twimg.com/media/CerG057WIAAe2pC.jpg', 'type': 'photo', 'indices': [60, 83], 'source_status_id': 714602109098786816, 'id_str': '714602103096877056', 'source_user_id_str': '714428593313480704', 'id': 714602103096877056, 'display_url': 'pic.twitter.com/PZ5vS94lOg', 'source_status_id_str': '714602109098786816'}, {'sizes': {'large': {'w': 400, 'h': 400, 'resize': 'fit'}, 'medium': {'w': 400, 'h': 400, 'resize': 'fit'}, 'small': {'w': 340, 'h': 340, 'resize': 'fit'}, 'thumb': {'w': 150, 'h': 150, 'resize': 'crop'}}, 'expanded_url…",
         "favorite_count": "0",
         "favorited": "False",
         "filter_level": "low",
         "geo": "nan",
         "id": "714960402849927168",
         "id_str": "714960402849927168",
         "in_reply_to_screen_name": "nan",
         "in_reply_to_status_id": "nan",
         "in_reply_to_status_id_str": "nan",
         "in_reply_to_user_id": "nan",
         "in_reply_to_user_id_str": "nan",
         "is_quote_status": "False",
         "lang": "en",
         "place": "nan",
         "possibly_sensitive": "False",
         "quoted_status": "nan",
         "quoted_status_id": "nan",
         "quoted_status_id_str": "nan",
         "retweet_count": "0",
         "retweeted": "False",
         "retweeted_status": "{'retweeted': False, 'text': 'RT for Brendon Urie\\nFav for Donald Trump https://t.co/PZ5vS94lOg', 'in_reply_to_status_id': None, 'favorite_count': 11, 'in_reply_to_user_id_str': None, 'geo': None, 'is_quote_status': False, 'source': '<a href=\"http://twitter.com/download/android\" rel=\"nofollow\">Twitter for Android</a>', 'in_reply_to_user_id': None, 'user': {'utc_offset': None, 'profile_image_url_https': 'https://pbs.twimg.com/profile_images/714604857043365888/95X5Icdr_normal.jpg', 'time_zone': None, 'contributors_enabled': False, 'url': None, 'id_str': '714428593313480704', 'profile_sidebar_fill_color': 'DDEEF6', 'is_translator': False, 'friends_count': 310, 'default_profile_image': False, 'follow_request_sent': None, 'following': None, 'name': 'rt ur fave OR trump', 'profile_use_background_image': True, 'profile_background_image_url': '', 'screen_name': 'urfavandtrump', 'profile_sidebar_border_color': 'C0DEED', 'profile_link_color': '2B7BB9', 'profile_background_tile': False, 'profile…",
         "source": "<a href=\"http://twitter.com/download/iphone\" rel=\"nofollow\">Twitter for iPhone</a>",
         "text": "RT @urfavandtrump: RT for Brendon Urie\nFav for Donald Trump https://t.co/PZ5vS94lOg",
         "timestamp_ms": "1459294818018",
         "truncated": "False",
         "user": "{'utc_offset': None, 'profile_image_url_https': 'https://pbs.twimg.com/profile_images/714819335857029120/DwluXeZ9_normal.jpg', 'time_zone': None, 'contributors_enabled': False, 'url': 'https://twitter.com/suggsmydrug/status/686644377830166528', 'id_str': '900188598', 'profile_sidebar_fill_color': '7AC3EE', 'is_translator': False, 'friends_count': 12595, 'default_profile_image': False, 'follow_request_sent': None, 'following': None, 'name': 'Shan//CASPAR FOLLOWS', 'profile_use_background_image': True, 'profile_background_image_url': 'http://abs.twimg.com/images/themes/theme10/bg.gif', 'screen_name': 'Suggsmydrug', 'profile_sidebar_border_color': '65B0DA', 'profile_link_color': 'FF0000', 'profile_background_tile': True, 'profile_image_url': 'http://pbs.twimg.com/profile_images/714819335857029120/DwluXeZ9_normal.jpg', 'favourites_count': 33749, 'location': 'lol michael', 'geo_enabled': True, 'description': 'puff daddy', 'lang': 'en', 'profile_text_color': '3D1957', 'default_profile': Fal…",
         "_deepnote_index_column": "8"
        },
        {
         "contributors": "nan",
         "coordinates": "nan",
         "created_at": "Tue Mar 29 23:40:18 +0000 2016",
         "entities": "{'hashtags': [{'text': 'Trump', 'indices': [34, 40]}], 'user_mentions': [{'screen_name': 'trapgrampa', 'name': 'Trap Grampa', 'id': 2890400179, 'id_str': '2890400179', 'indices': [3, 14]}], 'symbols': [], 'media': [{'sizes': {'large': {'w': 573, 'h': 620, 'resize': 'fit'}, 'medium': {'w': 573, 'h': 620, 'resize': 'fit'}, 'small': {'w': 340, 'h': 368, 'resize': 'fit'}, 'thumb': {'w': 150, 'h': 150, 'resize': 'crop'}}, 'expanded_url': 'http://twitter.com/trapgrampa/status/714918156171665408/photo/1', 'url': 'https://t.co/fYSiHNS0nT', 'media_url_https': 'https://pbs.twimg.com/media/CevmRbcWsAAf-ec.jpg', 'source_user_id': 2890400179, 'media_url': 'http://pbs.twimg.com/media/CevmRbcWsAAf-ec.jpg', 'type': 'photo', 'indices': [63, 86], 'source_status_id': 714918156171665408, 'id_str': '714918152967204864', 'source_user_id_str': '2890400179', 'id': 714918152967204864, 'display_url': 'pic.twitter.com/fYSiHNS0nT', 'source_status_id_str': '714918156171665408'}], 'urls': []}",
         "extended_entities": "{'media': [{'sizes': {'large': {'w': 573, 'h': 620, 'resize': 'fit'}, 'medium': {'w': 573, 'h': 620, 'resize': 'fit'}, 'small': {'w': 340, 'h': 368, 'resize': 'fit'}, 'thumb': {'w': 150, 'h': 150, 'resize': 'crop'}}, 'expanded_url': 'http://twitter.com/trapgrampa/status/714918156171665408/photo/1', 'url': 'https://t.co/fYSiHNS0nT', 'media_url_https': 'https://pbs.twimg.com/media/CevmRbcWsAAf-ec.jpg', 'source_user_id': 2890400179, 'media_url': 'http://pbs.twimg.com/media/CevmRbcWsAAf-ec.jpg', 'type': 'photo', 'indices': [63, 86], 'source_status_id': 714918156171665408, 'id_str': '714918152967204864', 'source_user_id_str': '2890400179', 'id': 714918152967204864, 'display_url': 'pic.twitter.com/fYSiHNS0nT', 'source_status_id_str': '714918156171665408'}]}",
         "favorite_count": "0",
         "favorited": "False",
         "filter_level": "low",
         "geo": "nan",
         "id": "714960402853928960",
         "id_str": "714960402853928960",
         "in_reply_to_screen_name": "nan",
         "in_reply_to_status_id": "nan",
         "in_reply_to_status_id_str": "nan",
         "in_reply_to_user_id": "nan",
         "in_reply_to_user_id_str": "nan",
         "is_quote_status": "False",
         "lang": "en",
         "place": "nan",
         "possibly_sensitive": "False",
         "quoted_status": "nan",
         "quoted_status_id": "nan",
         "quoted_status_id_str": "nan",
         "retweet_count": "0",
         "retweeted": "False",
         "retweeted_status": "{'retweeted': False, 'text': 'This is how I see #Trump every time he speaks. https://t.co/fYSiHNS0nT', 'in_reply_to_status_id': None, 'favorite_count': 227, 'in_reply_to_user_id_str': None, 'geo': None, 'is_quote_status': False, 'source': '<a href=\"http://twitter.com/download/iphone\" rel=\"nofollow\">Twitter for iPhone</a>', 'in_reply_to_user_id': None, 'user': {'utc_offset': -25200, 'profile_image_url_https': 'https://pbs.twimg.com/profile_images/649049739028250624/HhrFNEPM_normal.jpg', 'time_zone': 'Pacific Time (US & Canada)', 'contributors_enabled': False, 'url': 'http://spaced-out.co', 'id_str': '2890400179', 'profile_sidebar_fill_color': 'DDEEF6', 'is_translator': False, 'friends_count': 8378, 'default_profile_image': False, 'follow_request_sent': None, 'following': None, 'name': 'Trap Grampa', 'profile_use_background_image': True, 'profile_background_image_url': 'http://abs.twimg.com/images/themes/theme1/bg.png', 'screen_name': 'trapgrampa', 'profile_sidebar_border_color': 'C0DEE…",
         "source": "<a href=\"http://twitter.com/download/iphone\" rel=\"nofollow\">Twitter for iPhone</a>",
         "text": "RT @trapgrampa: This is how I see #Trump every time he speaks. https://t.co/fYSiHNS0nT",
         "timestamp_ms": "1459294818019",
         "truncated": "False",
         "user": "{'utc_offset': None, 'profile_image_url_https': 'https://pbs.twimg.com/profile_images/693678842494332928/jjU86Qx-_normal.jpg', 'time_zone': None, 'contributors_enabled': False, 'url': None, 'id_str': '32664880', 'profile_sidebar_fill_color': 'DDEEF6', 'is_translator': False, 'friends_count': 172, 'default_profile_image': False, 'follow_request_sent': None, 'following': None, 'name': 'Bert', 'profile_use_background_image': True, 'profile_background_image_url': 'http://abs.twimg.com/images/themes/theme1/bg.png', 'screen_name': 'BigBertis', 'profile_sidebar_border_color': 'C0DEED', 'profile_link_color': '0084B4', 'profile_background_tile': False, 'profile_image_url': 'http://pbs.twimg.com/profile_images/693678842494332928/jjU86Qx-_normal.jpg', 'favourites_count': 546, 'location': 'Colorado, USA', 'geo_enabled': True, 'description': 'KCCO', 'lang': 'en', 'profile_text_color': '333333', 'default_profile': True, 'profile_banner_url': 'https://pbs.twimg.com/profile_banners/32664880/145499028…",
         "_deepnote_index_column": "9"
        }
       ]
      },
      "text/plain": "    contributors  coordinates                      created_at  \\\n0            NaN          NaN  Tue Mar 29 23:40:17 +0000 2016   \n1            NaN          NaN  Tue Mar 29 23:40:17 +0000 2016   \n2            NaN          NaN  Tue Mar 29 23:40:17 +0000 2016   \n3            NaN          NaN  Tue Mar 29 23:40:17 +0000 2016   \n4            NaN          NaN  Tue Mar 29 23:40:17 +0000 2016   \n..           ...          ...                             ...   \n95           NaN          NaN  Tue Mar 29 23:40:19 +0000 2016   \n96           NaN          NaN  Tue Mar 29 23:40:19 +0000 2016   \n97           NaN          NaN  Tue Mar 29 23:40:19 +0000 2016   \n98           NaN          NaN  Tue Mar 29 23:40:19 +0000 2016   \n99           NaN          NaN  Tue Mar 29 23:40:19 +0000 2016   \n\n                                             entities  \\\n0   {'hashtags': [], 'user_mentions': [{'screen_na...   \n1   {'hashtags': [{'text': 'cruzsexscandal', 'indi...   \n2   {'hashtags': [], 'user_mentions': [], 'symbols...   \n3   {'hashtags': [], 'user_mentions': [], 'symbols...   \n4   {'hashtags': [], 'user_mentions': [{'screen_na...   \n..                                                ...   \n95  {'hashtags': [], 'user_mentions': [{'screen_na...   \n96  {'hashtags': [], 'user_mentions': [], 'symbols...   \n97  {'hashtags': [{'text': 'NeverTrump', 'indices'...   \n98  {'hashtags': [], 'user_mentions': [], 'symbols...   \n99  {'hashtags': [], 'user_mentions': [{'screen_na...   \n\n                                    extended_entities  favorite_count  \\\n0   {'media': [{'sizes': {'large': {'w': 1024, 'h'...               0   \n1   {'media': [{'sizes': {'large': {'w': 500, 'h':...               0   \n2                                                 NaN               0   \n3                                                 NaN               0   \n4                                                 NaN               0   \n..                                                ...             ...   \n95                                                NaN               0   \n96                                                NaN               0   \n97                                                NaN               0   \n98                                                NaN               0   \n99                                                NaN               0   \n\n    favorited filter_level  geo                  id  ...  quoted_status_id  \\\n0       False          low  NaN  714960401759387648  ...               NaN   \n1       False          low  NaN  714960401977319424  ...               NaN   \n2       False          low  NaN  714960402426236928  ...               NaN   \n3       False          low  NaN  714960402367561730  ...      7.149239e+17   \n4       False          low  NaN  714960402149416960  ...               NaN   \n..        ...          ...  ...                 ...  ...               ...   \n95      False          low  NaN  714960410345136129  ...               NaN   \n96      False          low  NaN  714960410181570560  ...      7.149602e+17   \n97      False          low  NaN  714960410332377088  ...               NaN   \n98      False          low  NaN  714960410181570560  ...      7.149602e+17   \n99      False          low  NaN  714960410194018304  ...      7.149254e+17   \n\n   quoted_status_id_str  retweet_count  retweeted  \\\n0                   NaN              0      False   \n1                   NaN              0      False   \n2                   NaN              0      False   \n3          7.149239e+17              0      False   \n4                   NaN              0      False   \n..                  ...            ...        ...   \n95                  NaN              0      False   \n96         7.149602e+17              0      False   \n97                  NaN              0      False   \n98         7.149602e+17              0      False   \n99         7.149254e+17              0      False   \n\n                                     retweeted_status  \\\n0   {'retweeted': False, 'text': \".@krollbondratin...   \n1   {'retweeted': False, 'text': '@dmartosko Cruz ...   \n2                                                 NaN   \n3                                                 NaN   \n4   {'retweeted': False, 'text': 'The anti-America...   \n..                                                ...   \n95  {'retweeted': False, 'lang': 'en', 'favorite_c...   \n96                                                NaN   \n97  {'retweeted': False, 'text': \"Seriously can't ...   \n98                                                NaN   \n99                                                NaN   \n\n                                               source  \\\n0   <a href=\"http://twitter.com\" rel=\"nofollow\">Tw...   \n1   <a href=\"http://twitter.com\" rel=\"nofollow\">Tw...   \n2   <a href=\"http://www.facebook.com/twitter\" rel=...   \n3   <a href=\"http://twitter.com/download/android\" ...   \n4   <a href=\"http://twitter.com/download/iphone\" r...   \n..                                                ...   \n95  <a href=\"http://twitter.com/download/iphone\" r...   \n96  <a href=\"http://twitter.com\" rel=\"nofollow\">Tw...   \n97  <a href=\"http://twitter.com/download/iphone\" r...   \n98  <a href=\"http://twitter.com\" rel=\"nofollow\">Tw...   \n99  <a href=\"http://twitter.com/download/iphone\" r...   \n\n                                                 text   timestamp_ms  \\\n0   RT @bpolitics: .@krollbondrating's Christopher...  1459294817758   \n1   RT @HeidiAlpine: @dmartosko Cruz video found.....  1459294817810   \n2   Njihuni me Zonjën Trump !!! | Ekskluzive https...  1459294817917   \n3   Your an idiot she shouldn't have tried to grab...  1459294817903   \n4   RT @AlanLohner: The anti-American D.C. elites ...  1459294817851   \n..                                                ...            ...   \n95  RT @claytoncubitt: Stop asking Bernie supporte...  1459294819805   \n96  Kasich is gonna fuck this up for Ted Cruz  htt...  1459294819766   \n97  RT @akaMaude13: Seriously can't make this up. ...  1459294819802   \n98  Kasich is gonna fuck this up for Ted Cruz  htt...  1459294819766   \n99  @marklevinshow try reporting this truth. https...  1459294819769   \n\n   truncated                                               user  \n0      False  {'utc_offset': 3600, 'profile_image_url_https'...  \n1      False  {'utc_offset': None, 'profile_image_url_https'...  \n2      False  {'utc_offset': 7200, 'profile_image_url_https'...  \n3      False  {'utc_offset': None, 'profile_image_url_https'...  \n4      False  {'utc_offset': -18000, 'profile_image_url_http...  \n..       ...                                                ...  \n95     False  {'utc_offset': None, 'profile_image_url_https'...  \n96     False  {'utc_offset': -18000, 'profile_image_url_http...  \n97     False  {'utc_offset': None, 'profile_image_url_https'...  \n98     False  {'utc_offset': -18000, 'profile_image_url_http...  \n99     False  {'utc_offset': -21600, 'profile_image_url_http...  \n\n[100 rows x 31 columns]",
      "text/html": "<div>\n<style scoped>\n    .dataframe tbody tr th:only-of-type {\n        vertical-align: middle;\n    }\n\n    .dataframe tbody tr th {\n        vertical-align: top;\n    }\n\n    .dataframe thead th {\n        text-align: right;\n    }\n</style>\n<table border=\"1\" class=\"dataframe\">\n  <thead>\n    <tr style=\"text-align: right;\">\n      <th></th>\n      <th>contributors</th>\n      <th>coordinates</th>\n      <th>created_at</th>\n      <th>entities</th>\n      <th>extended_entities</th>\n      <th>favorite_count</th>\n      <th>favorited</th>\n      <th>filter_level</th>\n      <th>geo</th>\n      <th>id</th>\n      <th>...</th>\n      <th>quoted_status_id</th>\n      <th>quoted_status_id_str</th>\n      <th>retweet_count</th>\n      <th>retweeted</th>\n      <th>retweeted_status</th>\n      <th>source</th>\n      <th>text</th>\n      <th>timestamp_ms</th>\n      <th>truncated</th>\n      <th>user</th>\n    </tr>\n  </thead>\n  <tbody>\n    <tr>\n      <th>0</th>\n      <td>NaN</td>\n      <td>NaN</td>\n      <td>Tue Mar 29 23:40:17 +0000 2016</td>\n      <td>{'hashtags': [], 'user_mentions': [{'screen_na...</td>\n      <td>{'media': [{'sizes': {'large': {'w': 1024, 'h'...</td>\n      <td>0</td>\n      <td>False</td>\n      <td>low</td>\n      <td>NaN</td>\n      <td>714960401759387648</td>\n      <td>...</td>\n      <td>NaN</td>\n      <td>NaN</td>\n      <td>0</td>\n      <td>False</td>\n      <td>{'retweeted': False, 'text': \".@krollbondratin...</td>\n      <td>&lt;a href=\"http://twitter.com\" rel=\"nofollow\"&gt;Tw...</td>\n      <td>RT @bpolitics: .@krollbondrating's Christopher...</td>\n      <td>1459294817758</td>\n      <td>False</td>\n      <td>{'utc_offset': 3600, 'profile_image_url_https'...</td>\n    </tr>\n    <tr>\n      <th>1</th>\n      <td>NaN</td>\n      <td>NaN</td>\n      <td>Tue Mar 29 23:40:17 +0000 2016</td>\n      <td>{'hashtags': [{'text': 'cruzsexscandal', 'indi...</td>\n      <td>{'media': [{'sizes': {'large': {'w': 500, 'h':...</td>\n      <td>0</td>\n      <td>False</td>\n      <td>low</td>\n      <td>NaN</td>\n      <td>714960401977319424</td>\n      <td>...</td>\n      <td>NaN</td>\n      <td>NaN</td>\n      <td>0</td>\n      <td>False</td>\n      <td>{'retweeted': False, 'text': '@dmartosko Cruz ...</td>\n      <td>&lt;a href=\"http://twitter.com\" rel=\"nofollow\"&gt;Tw...</td>\n      <td>RT @HeidiAlpine: @dmartosko Cruz video found.....</td>\n      <td>1459294817810</td>\n      <td>False</td>\n      <td>{'utc_offset': None, 'profile_image_url_https'...</td>\n    </tr>\n    <tr>\n      <th>2</th>\n      <td>NaN</td>\n      <td>NaN</td>\n      <td>Tue Mar 29 23:40:17 +0000 2016</td>\n      <td>{'hashtags': [], 'user_mentions': [], 'symbols...</td>\n      <td>NaN</td>\n      <td>0</td>\n      <td>False</td>\n      <td>low</td>\n      <td>NaN</td>\n      <td>714960402426236928</td>\n      <td>...</td>\n      <td>NaN</td>\n      <td>NaN</td>\n      <td>0</td>\n      <td>False</td>\n      <td>NaN</td>\n      <td>&lt;a href=\"http://www.facebook.com/twitter\" rel=...</td>\n      <td>Njihuni me Zonjën Trump !!! | Ekskluzive https...</td>\n      <td>1459294817917</td>\n      <td>False</td>\n      <td>{'utc_offset': 7200, 'profile_image_url_https'...</td>\n    </tr>\n    <tr>\n      <th>3</th>\n      <td>NaN</td>\n      <td>NaN</td>\n      <td>Tue Mar 29 23:40:17 +0000 2016</td>\n      <td>{'hashtags': [], 'user_mentions': [], 'symbols...</td>\n      <td>NaN</td>\n      <td>0</td>\n      <td>False</td>\n      <td>low</td>\n      <td>NaN</td>\n      <td>714960402367561730</td>\n      <td>...</td>\n      <td>7.149239e+17</td>\n      <td>7.149239e+17</td>\n      <td>0</td>\n      <td>False</td>\n      <td>NaN</td>\n      <td>&lt;a href=\"http://twitter.com/download/android\" ...</td>\n      <td>Your an idiot she shouldn't have tried to grab...</td>\n      <td>1459294817903</td>\n      <td>False</td>\n      <td>{'utc_offset': None, 'profile_image_url_https'...</td>\n    </tr>\n    <tr>\n      <th>4</th>\n      <td>NaN</td>\n      <td>NaN</td>\n      <td>Tue Mar 29 23:40:17 +0000 2016</td>\n      <td>{'hashtags': [], 'user_mentions': [{'screen_na...</td>\n      <td>NaN</td>\n      <td>0</td>\n      <td>False</td>\n      <td>low</td>\n      <td>NaN</td>\n      <td>714960402149416960</td>\n      <td>...</td>\n      <td>NaN</td>\n      <td>NaN</td>\n      <td>0</td>\n      <td>False</td>\n      <td>{'retweeted': False, 'text': 'The anti-America...</td>\n      <td>&lt;a href=\"http://twitter.com/download/iphone\" r...</td>\n      <td>RT @AlanLohner: The anti-American D.C. elites ...</td>\n      <td>1459294817851</td>\n      <td>False</td>\n      <td>{'utc_offset': -18000, 'profile_image_url_http...</td>\n    </tr>\n    <tr>\n      <th>...</th>\n      <td>...</td>\n      <td>...</td>\n      <td>...</td>\n      <td>...</td>\n      <td>...</td>\n      <td>...</td>\n      <td>...</td>\n      <td>...</td>\n      <td>...</td>\n      <td>...</td>\n      <td>...</td>\n      <td>...</td>\n      <td>...</td>\n      <td>...</td>\n      <td>...</td>\n      <td>...</td>\n      <td>...</td>\n      <td>...</td>\n      <td>...</td>\n      <td>...</td>\n      <td>...</td>\n    </tr>\n    <tr>\n      <th>95</th>\n      <td>NaN</td>\n      <td>NaN</td>\n      <td>Tue Mar 29 23:40:19 +0000 2016</td>\n      <td>{'hashtags': [], 'user_mentions': [{'screen_na...</td>\n      <td>NaN</td>\n      <td>0</td>\n      <td>False</td>\n      <td>low</td>\n      <td>NaN</td>\n      <td>714960410345136129</td>\n      <td>...</td>\n      <td>NaN</td>\n      <td>NaN</td>\n      <td>0</td>\n      <td>False</td>\n      <td>{'retweeted': False, 'lang': 'en', 'favorite_c...</td>\n      <td>&lt;a href=\"http://twitter.com/download/iphone\" r...</td>\n      <td>RT @claytoncubitt: Stop asking Bernie supporte...</td>\n      <td>1459294819805</td>\n      <td>False</td>\n      <td>{'utc_offset': None, 'profile_image_url_https'...</td>\n    </tr>\n    <tr>\n      <th>96</th>\n      <td>NaN</td>\n      <td>NaN</td>\n      <td>Tue Mar 29 23:40:19 +0000 2016</td>\n      <td>{'hashtags': [], 'user_mentions': [], 'symbols...</td>\n      <td>NaN</td>\n      <td>0</td>\n      <td>False</td>\n      <td>low</td>\n      <td>NaN</td>\n      <td>714960410181570560</td>\n      <td>...</td>\n      <td>7.149602e+17</td>\n      <td>7.149602e+17</td>\n      <td>0</td>\n      <td>False</td>\n      <td>NaN</td>\n      <td>&lt;a href=\"http://twitter.com\" rel=\"nofollow\"&gt;Tw...</td>\n      <td>Kasich is gonna fuck this up for Ted Cruz  htt...</td>\n      <td>1459294819766</td>\n      <td>False</td>\n      <td>{'utc_offset': -18000, 'profile_image_url_http...</td>\n    </tr>\n    <tr>\n      <th>97</th>\n      <td>NaN</td>\n      <td>NaN</td>\n      <td>Tue Mar 29 23:40:19 +0000 2016</td>\n      <td>{'hashtags': [{'text': 'NeverTrump', 'indices'...</td>\n      <td>NaN</td>\n      <td>0</td>\n      <td>False</td>\n      <td>low</td>\n      <td>NaN</td>\n      <td>714960410332377088</td>\n      <td>...</td>\n      <td>NaN</td>\n      <td>NaN</td>\n      <td>0</td>\n      <td>False</td>\n      <td>{'retweeted': False, 'text': \"Seriously can't ...</td>\n      <td>&lt;a href=\"http://twitter.com/download/iphone\" r...</td>\n      <td>RT @akaMaude13: Seriously can't make this up. ...</td>\n      <td>1459294819802</td>\n      <td>False</td>\n      <td>{'utc_offset': None, 'profile_image_url_https'...</td>\n    </tr>\n    <tr>\n      <th>98</th>\n      <td>NaN</td>\n      <td>NaN</td>\n      <td>Tue Mar 29 23:40:19 +0000 2016</td>\n      <td>{'hashtags': [], 'user_mentions': [], 'symbols...</td>\n      <td>NaN</td>\n      <td>0</td>\n      <td>False</td>\n      <td>low</td>\n      <td>NaN</td>\n      <td>714960410181570560</td>\n      <td>...</td>\n      <td>7.149602e+17</td>\n      <td>7.149602e+17</td>\n      <td>0</td>\n      <td>False</td>\n      <td>NaN</td>\n      <td>&lt;a href=\"http://twitter.com\" rel=\"nofollow\"&gt;Tw...</td>\n      <td>Kasich is gonna fuck this up for Ted Cruz  htt...</td>\n      <td>1459294819766</td>\n      <td>False</td>\n      <td>{'utc_offset': -18000, 'profile_image_url_http...</td>\n    </tr>\n    <tr>\n      <th>99</th>\n      <td>NaN</td>\n      <td>NaN</td>\n      <td>Tue Mar 29 23:40:19 +0000 2016</td>\n      <td>{'hashtags': [], 'user_mentions': [{'screen_na...</td>\n      <td>NaN</td>\n      <td>0</td>\n      <td>False</td>\n      <td>low</td>\n      <td>NaN</td>\n      <td>714960410194018304</td>\n      <td>...</td>\n      <td>7.149254e+17</td>\n      <td>7.149254e+17</td>\n      <td>0</td>\n      <td>False</td>\n      <td>NaN</td>\n      <td>&lt;a href=\"http://twitter.com/download/iphone\" r...</td>\n      <td>@marklevinshow try reporting this truth. https...</td>\n      <td>1459294819769</td>\n      <td>False</td>\n      <td>{'utc_offset': -21600, 'profile_image_url_http...</td>\n    </tr>\n  </tbody>\n</table>\n<p>100 rows × 31 columns</p>\n</div>"
     },
     "metadata": {}
    }
   ]
  },
  {
   "cell_type": "code",
   "metadata": {
    "cell_id": "a2045739f4054650a54141979e65b040",
    "tags": [],
    "deepnote_to_be_reexecuted": false,
    "source_hash": "7a79c972",
    "execution_start": 1662051910439,
    "execution_millis": 15,
    "allow_embed": "code_output",
    "deepnote_cell_type": "code",
    "deepnote_cell_height": 341.1875
   },
   "source": "langs_count = {} #Empty Dict\ncol = df['lang'] #Subsetting the column and assign to a variable \n\n# Iterate over lang column in DataFrame\nfor entry in col:\n    # If the language is in langs_count, add 1 \n    if entry in langs_count.keys():\n        langs_count[entry] += 1\n        \n    # Else add the language to langs_count, set the value to 1\n    else:\n        langs_count[entry] = 1\n\nprint(langs_count)        ",
   "execution_count": 3,
   "outputs": [
    {
     "name": "stdout",
     "text": "{'en': 97, 'et': 1, 'und': 2}\n",
     "output_type": "stream"
    }
   ]
  },
  {
   "cell_type": "markdown",
   "source": "---",
   "metadata": {
    "cell_id": "7b5e23b22c0c40a888550a45efb89cd0",
    "tags": [],
    "deepnote_cell_type": "markdown",
    "deepnote_cell_height": 46
   }
  },
  {
   "cell_type": "code",
   "metadata": {
    "cell_id": "1fd6991b89d34c25a736bd7455d9ea63",
    "tags": [],
    "deepnote_to_be_reexecuted": false,
    "source_hash": "4a46e101",
    "execution_start": 1662051910459,
    "execution_millis": 14,
    "allow_embed": "code_output",
    "deepnote_cell_type": "code",
    "deepnote_cell_height": 431.1875
   },
   "source": "def count_entries(df, col_name):\n\n    langs_count = {}\n    col = df[col_name]\n\n    for entry in col:\n        if entry in langs_count.keys():\n            langs_count[entry] += 1\n\n        else:\n            langs_count[entry] = 1\n\n    return langs_count\n\n\n\nresult = count_entries(df, 'lang')    \n\nprint(result)",
   "execution_count": 4,
   "outputs": [
    {
     "name": "stdout",
     "text": "{'en': 97, 'et': 1, 'und': 2}\n",
     "output_type": "stream"
    }
   ]
  },
  {
   "cell_type": "markdown",
   "source": "including **default argument**",
   "metadata": {
    "cell_id": "5eeca942ee3c40b9bc103fbabc014a78",
    "tags": [],
    "deepnote_cell_type": "markdown",
    "deepnote_cell_height": 52.390625
   }
  },
  {
   "cell_type": "code",
   "metadata": {
    "cell_id": "a61fe07bb4ec4127bfc379f081c94ff8",
    "tags": [],
    "deepnote_to_be_reexecuted": false,
    "source_hash": "5174a91a",
    "execution_start": 1662051910476,
    "execution_millis": 14,
    "deepnote_cell_type": "code",
    "deepnote_cell_height": 491.375
   },
   "source": "def count_entries(df, col_name='lang'):\n\n    cols_count = {}\n\n    col = df[col_name]\n\n    for entry in col:\n        if entry in cols_count.keys():\n            cols_count[entry] += 1\n\n        else:\n            cols_count[entry] = 1\n\n    return cols_count\n\n\nresult1 = count_entries(df)    \nresult2 = count_entries(df, 'source')\n\nprint(result1)\nprint(result2)",
   "execution_count": 5,
   "outputs": [
    {
     "name": "stdout",
     "text": "{'en': 97, 'et': 1, 'und': 2}\n{'<a href=\"http://twitter.com\" rel=\"nofollow\">Twitter Web Client</a>': 24, '<a href=\"http://www.facebook.com/twitter\" rel=\"nofollow\">Facebook</a>': 1, '<a href=\"http://twitter.com/download/android\" rel=\"nofollow\">Twitter for Android</a>': 26, '<a href=\"http://twitter.com/download/iphone\" rel=\"nofollow\">Twitter for iPhone</a>': 33, '<a href=\"http://www.twitter.com\" rel=\"nofollow\">Twitter for BlackBerry</a>': 2, '<a href=\"http://www.google.com/\" rel=\"nofollow\">Google</a>': 2, '<a href=\"http://twitter.com/#!/download/ipad\" rel=\"nofollow\">Twitter for iPad</a>': 6, '<a href=\"http://linkis.com\" rel=\"nofollow\">Linkis.com</a>': 2, '<a href=\"http://rutracker.org/forum/viewforum.php?f=93\" rel=\"nofollow\">newzlasz</a>': 2, '<a href=\"http://ifttt.com\" rel=\"nofollow\">IFTTT</a>': 1, '<a href=\"http://www.myplume.com/\" rel=\"nofollow\">Plume\\xa0for\\xa0Android</a>': 1}\n",
     "output_type": "stream"
    }
   ]
  },
  {
   "cell_type": "markdown",
   "source": "**Passing flexible arguments**",
   "metadata": {
    "cell_id": "d5f33697cccd43908305a2af15875a1a",
    "tags": [],
    "deepnote_cell_type": "markdown",
    "deepnote_cell_height": 52.390625
   }
  },
  {
   "cell_type": "code",
   "metadata": {
    "cell_id": "28ba9676b13e406cbea89af6f9c7de6e",
    "tags": [],
    "deepnote_to_be_reexecuted": false,
    "source_hash": "da7ce32f",
    "execution_start": 1662051910492,
    "execution_millis": 17,
    "allow_embed": "code_output",
    "deepnote_cell_type": "code",
    "deepnote_cell_height": 830.1875
   },
   "source": "def count_entries(df, *args):\n\n    cols_count = {}\n\n    for col_name in args:\n        col = df[col_name]\n\n        for entry in col:\n            if entry in cols_count.keys():\n                cols_count[entry] += 1\n\n            else:\n                cols_count[entry] = 1\n\n    return cols_count\n\nresult1 = count_entries(df, 'lang')\nresult2 = count_entries(df, 'lang', 'source')\n\ndf_result2 = pd.DataFrame.from_dict(result2, orient='index')\nprint(result1)\nprint(result2)\nprint(df_result2)",
   "execution_count": 6,
   "outputs": [
    {
     "name": "stdout",
     "text": "{'en': 97, 'et': 1, 'und': 2}\n{'en': 97, 'et': 1, 'und': 2, '<a href=\"http://twitter.com\" rel=\"nofollow\">Twitter Web Client</a>': 24, '<a href=\"http://www.facebook.com/twitter\" rel=\"nofollow\">Facebook</a>': 1, '<a href=\"http://twitter.com/download/android\" rel=\"nofollow\">Twitter for Android</a>': 26, '<a href=\"http://twitter.com/download/iphone\" rel=\"nofollow\">Twitter for iPhone</a>': 33, '<a href=\"http://www.twitter.com\" rel=\"nofollow\">Twitter for BlackBerry</a>': 2, '<a href=\"http://www.google.com/\" rel=\"nofollow\">Google</a>': 2, '<a href=\"http://twitter.com/#!/download/ipad\" rel=\"nofollow\">Twitter for iPad</a>': 6, '<a href=\"http://linkis.com\" rel=\"nofollow\">Linkis.com</a>': 2, '<a href=\"http://rutracker.org/forum/viewforum.php?f=93\" rel=\"nofollow\">newzlasz</a>': 2, '<a href=\"http://ifttt.com\" rel=\"nofollow\">IFTTT</a>': 1, '<a href=\"http://www.myplume.com/\" rel=\"nofollow\">Plume\\xa0for\\xa0Android</a>': 1}\n                                                     0\nen                                                  97\net                                                   1\nund                                                  2\n<a href=\"http://twitter.com\" rel=\"nofollow\">Twi...  24\n<a href=\"http://www.facebook.com/twitter\" rel=\"...   1\n<a href=\"http://twitter.com/download/android\" r...  26\n<a href=\"http://twitter.com/download/iphone\" re...  33\n<a href=\"http://www.twitter.com\" rel=\"nofollow\"...   2\n<a href=\"http://www.google.com/\" rel=\"nofollow\"...   2\n<a href=\"http://twitter.com/#!/download/ipad\" r...   6\n<a href=\"http://linkis.com\" rel=\"nofollow\">Link...   2\n<a href=\"http://rutracker.org/forum/viewforum.p...   2\n<a href=\"http://ifttt.com\" rel=\"nofollow\">IFTTT...   1\n<a href=\"http://www.myplume.com/\" rel=\"nofollow...   1\n",
     "output_type": "stream"
    }
   ]
  },
  {
   "cell_type": "markdown",
   "source": "**Lambda functions looking for RT**",
   "metadata": {
    "cell_id": "45b3272f70314eaabdd7815d5255b806",
    "tags": [],
    "deepnote_cell_type": "markdown",
    "deepnote_cell_height": 52.390625
   }
  },
  {
   "cell_type": "code",
   "metadata": {
    "cell_id": "c504923fc7a945c9a18b8d1dd3fb5978",
    "tags": [],
    "deepnote_to_be_reexecuted": false,
    "source_hash": "d8493f5",
    "execution_start": 1662051910548,
    "execution_millis": 5,
    "allow_embed": "code_output",
    "deepnote_cell_type": "code",
    "deepnote_cell_height": 768
   },
   "source": "result = filter(lambda x: x[0:2] == 'RT', df['text'])\nres_list = list(result)\n\nfor tweet in res_list:\n    print(tweet)",
   "execution_count": 7,
   "outputs": [
    {
     "name": "stdout",
     "text": "RT @bpolitics: .@krollbondrating's Christopher Whalen says Clinton is the weakest Dem candidate in 50 years https://t.co/pLk7rvoRSn https:/…\nRT @HeidiAlpine: @dmartosko Cruz video found.....racing from the scene.... #cruzsexscandal https://t.co/zuAPZfQDk3\nRT @AlanLohner: The anti-American D.C. elites despise Trump for his America-first foreign policy. Trump threatens their gravy train. https:…\nRT @BIackPplTweets: Young Donald trump meets his neighbor  https://t.co/RFlu17Z1eE\nRT @trumpresearch: @WaitingInBagdad @thehill Trump supporters have selective amnisia.\nRT @HouseCracka: 29,000+ PEOPLE WATCHING TRUMP LIVE ON ONE STREAM!!!\n\nhttps://t.co/7QCFz9ehNe\nRT @urfavandtrump: RT for Brendon Urie\nFav for Donald Trump https://t.co/PZ5vS94lOg\nRT @trapgrampa: This is how I see #Trump every time he speaks. https://t.co/fYSiHNS0nT\nRT @trumpresearch: @WaitingInBagdad @thehill Trump supporters have selective amnisia.\nRT @Pjw20161951: NO KIDDING: #SleazyDonald just attacked Scott Walker for NOT RAISING TAXES in WI! #LyinTrump\n#NeverTrump  #CruzCrew  https…\nRT @urfavandtrump: RT for Brendon Urie\nFav for Donald Trump https://t.co/PZ5vS94lOg\nRT @ggreenwald: The media spent all day claiming @SusanSarandon said she might vote for Trump. A total fabrication, but whatever... https:/…\nRT @Pjw20161951: NO KIDDING: #SleazyDonald just attacked Scott Walker for NOT RAISING TAXES in WI! #LyinTrump\n#NeverTrump  #CruzCrew  https…\nRT @trapgrampa: This is how I see #Trump every time he speaks. https://t.co/fYSiHNS0nT\nRT @mitchellvii: So let me get this straight.  Any reporter can assault Mr Trump at any time and Corey can do nothing?  Michelle is clearly…\nRT @paulbenedict7: How #Trump Sacks RINO Strongholds by Hitting Positions Held by Dems and GOP https://t.co/D7ulnAJhis   #tcot #PJNET https…\nRT @DRUDGE_REPORT: VIDEO:  Trump emotional moment with Former Miss Wisconsin who has terminal illness... https://t.co/qt06aG9inT\nRT @ggreenwald: The media spent all day claiming @SusanSarandon said she might vote for Trump. A total fabrication, but whatever... https:/…\nRT @DennisApgar: Thank God I seen Trump at first stop in Wisconsin media doesn't know how great he is, advice watch live streaming https://…\nRT @paulbenedict7: How #Trump Sacks RINO Strongholds by Hitting Positions Held by Dems and GOP https://t.co/D7ulnAJhis   #tcot #PJNET https…\nRT @DRUDGE_REPORT: VIDEO:  Trump emotional moment with Former Miss Wisconsin who has terminal illness... https://t.co/qt06aG9inT\nRT @DennisApgar: Thank God I seen Trump at first stop in Wisconsin media doesn't know how great he is, advice watch live streaming https://…\nRT @mitchellvii: So let me get this straight.  Any reporter can assault Mr Trump at any time and Corey can do nothing?  Michelle is clearly…\nRT @sciam: Trump's idiosyncratic patterns of speech are why people tend either to love or hate him https://t.co/QXwquVgs3c https://t.co/P9N…\nRT @Norsu2: Nightmare WI poll for Ted Cruz has Kasich surging: Trump 29, Kasich 27, Cruz 25. https://t.co/lJsgbLYY1P #NeverTrump\nRT @thehill: WATCH: Protester pepper-sprayed point blank at Trump rally https://t.co/B5f65Al9ld https://t.co/skAfByXuQc\nRT @sciam: Trump's idiosyncratic patterns of speech are why people tend either to love or hate him https://t.co/QXwquVgs3c https://t.co/P9N…\nRT @ggreenwald: The media spent all day claiming @SusanSarandon said she might vote for Trump. A total fabrication, but whatever... https:/…\nRT @DebbieStout5: Wow! Last I checked it was just 12 points &amp; that wasn't more than a day ago. Oh boy Trump ppl might want to rethink🤔 http…\nRT @tyleroakley: i'm a messy bitch, but at least i'm not voting for trump\nRT @vandives: Trump supporters r tired of justice NOT being served. There's no justice anymore. Hardworking Americans get screwed. That's n…\nRT @AP: BREAKING: Trump vows to stand by campaign manager charged with battery, says he does not discard people.\nRT @AP: BREAKING: Trump vows to stand by campaign manager charged with battery, says he does not discard people.\nRT @urfavandtrump: RT for Jerrie (Little Mix)\nFav for Donald Trump https://t.co/nEVxElW6iG\nRT @urfavandtrump: RT for Jerrie (Little Mix)\nFav for Donald Trump https://t.co/nEVxElW6iG\nRT @NoahCRothman: When Walker was fighting for reforms, Trump was defending unions and collective bargaining privileges https://t.co/e1UWNN…\nRT @RedheadAndRight: Report: Secret Service Says Michelle Fields Touched Trump https://t.co/c5c2sD8VO2\n\nThis is the only article you will n…\nRT @AIIAmericanGirI: VIDEO=&gt; Anti-Trump Protester SLUGS Elderly Trump Supporter in the Face\nhttps://t.co/GeEryMDuDY\nRT @NoahCRothman: When Walker was fighting for reforms, Trump was defending unions and collective bargaining privileges https://t.co/e1UWNN…\nRT @JusticeRanger1: @realDonaldTrump @Pudingtane @DanScavino @GOP @infowars @EricTrump \nURGENT PUBLIC TRUMP ALERT:\nCOVERT KILL MEANS https:…\nRT @AIIAmericanGirI: VIDEO=&gt; Anti-Trump Protester SLUGS Elderly Trump Supporter in the Face\nhttps://t.co/GeEryMDuDY\nRT @RedheadAndRight: Report: Secret Service Says Michelle Fields Touched Trump https://t.co/c5c2sD8VO2\n\nThis is the only article you will n…\nRT @JusticeRanger1: @realDonaldTrump @Pudingtane @DanScavino @GOP @infowars @EricTrump \nURGENT PUBLIC TRUMP ALERT:\nCOVERT KILL MEANS https:…\nRT @Schneider_CM: Trump says nobody had ever heard of executive orders before Obama started signing them. Never heard of the Emancipation P…\nRT @RonBasler1: @DavidWhitDennis @realDonaldTrump @tedcruz \n\nCRUZ SCREWS HOOKERS\n\nCRUZ / CLINTON\nRT @DonaldsAngel: Former Ms. WI just said that she is terminally ill but because of Trump pageant, her 7 yr. old son has his college educat…\nRT @Schneider_CM: Trump says nobody had ever heard of executive orders before Obama started signing them. Never heard of the Emancipation P…\nRT @DonaldsAngel: Former Ms. WI just said that she is terminally ill but because of Trump pageant, her 7 yr. old son has his college educat…\nRT @Dodarey: @DR8801 @SykesCharlie Charlie, let's see you get a straight \"yes\" or \"no\" answer from Cruz a/b being unfaithful to his wife @T…\nRT @RonBasler1: @DavidWhitDennis @realDonaldTrump @tedcruz \n\nCRUZ SCREWS HOOKERS\n\nCRUZ / CLINTON\nRT @RockCliffOne: Remember when the idea of a diabolical moron holding the world hostage was an idea for a funny movie? #Trump #GOP https:/…\nRT @HillaryClinton: \"Every day, another Republican bemoans the rise of Donald Trump... but [he] didn’t come out of nowhere.\" —Hillary\nhttps…\nRT @Dodarey: @DR8801 @SykesCharlie Charlie, let's see you get a straight \"yes\" or \"no\" answer from Cruz a/b being unfaithful to his wife @T…\nRT @HillaryClinton: \"Every day, another Republican bemoans the rise of Donald Trump... but [he] didn’t come out of nowhere.\" —Hillary\nhttps…\nRT @RockCliffOne: Remember when the idea of a diabolical moron holding the world hostage was an idea for a funny movie? #Trump #GOP https:/…\nRT @immigrant4trump: @immigrant4trump msm, cable news attacking trump all day, from 8am to 10pm today, then the reruns come on, repeating t…\nRT @immigrant4trump: @immigrant4trump msm, cable news attacking trump all day, from 8am to 10pm today, then the reruns come on, repeating t…\nRT @GlendaJazzey: Donald Trump’s Campaign Financing Dodge, @rrotunda https://t.co/L8flI4lswG via @VerdictJustia\nRT @TUSK81: LOUDER FOR THE PEOPLE IN THE BACK https://t.co/hlPVyNLXzx\nRT @loopzoop: Well...put it back https://t.co/8Yb7BDT5VM\nRT @claytoncubitt: Stop asking Bernie supporters if they’ll vote for Hillary against Trump. We got a plan to beat Trump already. Called Ber…\nRT @akaMaude13: Seriously can't make this up. What a joke. #NeverTrump  https://t.co/JkTx6mdRgC\n",
     "output_type": "stream"
    }
   ]
  },
  {
   "cell_type": "markdown",
   "source": "**Using `try-except`**",
   "metadata": {
    "cell_id": "8e468c2b0da44e368a6939a97ba4a440",
    "tags": [],
    "deepnote_cell_type": "markdown",
    "deepnote_cell_height": 52.390625
   }
  },
  {
   "cell_type": "code",
   "metadata": {
    "cell_id": "bc167e0f3550441d90db266e2200cd25",
    "tags": [],
    "deepnote_to_be_reexecuted": false,
    "source_hash": "dcd034d",
    "execution_start": 1662051910567,
    "execution_millis": 582296108,
    "allow_embed": "code_output",
    "deepnote_cell_type": "code",
    "deepnote_cell_height": 469.375
   },
   "source": "def count_entries(df, col_name='lang'):\n    cols_count = {}\n\n    try:\n        col = df[col_name]\n\n        for entry in col:\n            if entry in cols_count.keys():\n                cols_count[entry] += 1\n            else:\n                cols_count[entry] = 1\n\n        return cols_count\n\n    except:\n        print('The DataFrame does not have a ' + col_name + ' column.')\n\nresult1 = count_entries(df, 'lengua')\nprint(result1)\n",
   "execution_count": 8,
   "outputs": [
    {
     "name": "stdout",
     "text": "The DataFrame does not have a lengua column.\nNone\n",
     "output_type": "stream"
    }
   ]
  },
  {
   "cell_type": "markdown",
   "source": "**adding `raise`**",
   "metadata": {
    "cell_id": "36128076015a459597f719dba5e9a507",
    "tags": [],
    "deepnote_cell_type": "markdown",
    "deepnote_cell_height": 52.390625
   }
  },
  {
   "cell_type": "code",
   "metadata": {
    "cell_id": "8d3776af1c174d558deb5b221b3813f3",
    "tags": [],
    "deepnote_to_be_reexecuted": false,
    "source_hash": "cfb28aca",
    "execution_start": 1662051910618,
    "execution_millis": 1261,
    "allow_embed": "code_output",
    "deepnote_cell_type": "code",
    "deepnote_cell_height": 517.1875
   },
   "source": "def count_entries(df, col_name='lang'):\n    \n\n    if col_name not in df.columns:\n        raise ValueError('The DataFrame does not have a ' + col_name + ' column.')\n\n        cols_count = {}\n\n\n        col = df[col_name]\n\n        for entry in col:\n            if entry in cols_count.keys():\n                cols_count[entry] += 1\n            else:\n                cols_count[entry] = 1\n\n        return cols_count\n\nresult1 = count_entries(df, 'lengua')\nprint(result1)\n",
   "execution_count": 9,
   "outputs": [
    {
     "output_type": "error",
     "ename": "ValueError",
     "evalue": "The DataFrame does not have a lengua column.",
     "traceback": [
      "\u001b[0;31m---------------------------------------------------------------------------\u001b[0m",
      "\u001b[0;31mValueError\u001b[0m                                Traceback (most recent call last)",
      "Input \u001b[0;32mIn [9]\u001b[0m, in \u001b[0;36m<cell line: 20>\u001b[0;34m()\u001b[0m\n\u001b[1;32m     16\u001b[0m                 cols_count[entry] \u001b[38;5;241m=\u001b[39m \u001b[38;5;241m1\u001b[39m\n\u001b[1;32m     18\u001b[0m         \u001b[38;5;28;01mreturn\u001b[39;00m cols_count\n\u001b[0;32m---> 20\u001b[0m result1 \u001b[38;5;241m=\u001b[39m \u001b[43mcount_entries\u001b[49m\u001b[43m(\u001b[49m\u001b[43mdf\u001b[49m\u001b[43m,\u001b[49m\u001b[43m \u001b[49m\u001b[38;5;124;43m'\u001b[39;49m\u001b[38;5;124;43mlengua\u001b[39;49m\u001b[38;5;124;43m'\u001b[39;49m\u001b[43m)\u001b[49m\n\u001b[1;32m     21\u001b[0m \u001b[38;5;28mprint\u001b[39m(result1)\n",
      "Input \u001b[0;32mIn [9]\u001b[0m, in \u001b[0;36mcount_entries\u001b[0;34m(df, col_name)\u001b[0m\n\u001b[1;32m      1\u001b[0m \u001b[38;5;28;01mdef\u001b[39;00m \u001b[38;5;21mcount_entries\u001b[39m(df, col_name\u001b[38;5;241m=\u001b[39m\u001b[38;5;124m'\u001b[39m\u001b[38;5;124mlang\u001b[39m\u001b[38;5;124m'\u001b[39m):\n\u001b[1;32m      4\u001b[0m     \u001b[38;5;28;01mif\u001b[39;00m col_name \u001b[38;5;129;01mnot\u001b[39;00m \u001b[38;5;129;01min\u001b[39;00m df\u001b[38;5;241m.\u001b[39mcolumns:\n\u001b[0;32m----> 5\u001b[0m         \u001b[38;5;28;01mraise\u001b[39;00m \u001b[38;5;167;01mValueError\u001b[39;00m(\u001b[38;5;124m'\u001b[39m\u001b[38;5;124mThe DataFrame does not have a \u001b[39m\u001b[38;5;124m'\u001b[39m \u001b[38;5;241m+\u001b[39m col_name \u001b[38;5;241m+\u001b[39m \u001b[38;5;124m'\u001b[39m\u001b[38;5;124m column.\u001b[39m\u001b[38;5;124m'\u001b[39m)\n\u001b[1;32m      7\u001b[0m         cols_count \u001b[38;5;241m=\u001b[39m {}\n\u001b[1;32m     10\u001b[0m         col \u001b[38;5;241m=\u001b[39m df[col_name]\n",
      "\u001b[0;31mValueError\u001b[0m: The DataFrame does not have a lengua column."
     ]
    }
   ]
  },
  {
   "cell_type": "markdown",
   "source": "<a style='text-decoration:none;line-height:16px;display:flex;color:#5B5B62;padding:10px;justify-content:end;' href='https://deepnote.com?utm_source=created-in-deepnote-cell&projectId=8f5f8cd2-5edd-416d-b13b-2879f43486e6' target=\"_blank\">\n<img alt='Created in deepnote.com' style='display:inline;max-height:16px;margin:0px;margin-right:7.5px;' src='data:image/svg+xml;base64,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' > </img>\nCreated in <span style='font-weight:600;margin-left:4px;'>Deepnote</span></a>",
   "metadata": {
    "tags": [],
    "created_in_deepnote_cell": true,
    "deepnote_cell_type": "markdown"
   }
  }
 ],
 "nbformat": 4,
 "nbformat_minor": 2,
 "metadata": {
  "orig_nbformat": 2,
  "deepnote": {},
  "deepnote_notebook_id": "7c1db65e-1651-40fa-9a35-2b88a7fc86d1",
  "deepnote_execution_queue": [],
  "deepnote_persisted_session": {
   "filename": "session_dump_7c1db65e-1651-40fa-9a35-2b88a7fc86d1.pkl",
   "createdAt": "2022-08-25T23:46:27.230Z"
  }
 }
}